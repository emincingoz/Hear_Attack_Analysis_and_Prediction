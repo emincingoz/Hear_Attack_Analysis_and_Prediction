{
 "cells": [
  {
   "cell_type": "markdown",
   "id": "df41ddf7",
   "metadata": {},
   "source": [
    "## Table of Content\n",
    "\n",
    "* [Import Libraries](#Import-Libraries)\n",
    "* [Read Dataset](#Read-Dataset)\n",
    "* [Distributions](#Distributions)\n",
    "    - [Age Distribution](#Age-Distribution)\n",
    "    - [Gender Distribution](#Gender-Distribution)\n",
    "    - [Chest Pain Type](#Chest-Pain-Type)\n",
    "    - [Resting Blood Pressure](#Resting-Blood-Pressure)\n",
    "    - [Cholesterol](#Cholesterol)\n",
    "    - [Fasting Blood Sugar](#Fasting-Blood-Sugar)\n",
    "    - [Resting Electrocardiographic Results](#Resting-Electrocardiographic-Results)\n",
    "    - [Maximum Heart Rate](#Maximum-Heart-Rate)\n",
    "    - [Exercise Induced Angina](#Exercise-Induced-Angina)\n",
    "    - [Output](#Output)\n",
    "* [Data Pre-process](#Data-Preprocess)\n",
    "    - [Remove Outliers](#Remove-Outliers)\n",
    "    - [Splitting Data to Train and Test Sets](#Splitting-Data-to-Train-and-Test-Sets)\n",
    "    - [Scaling Data](#Scaling-Data)\n",
    "* [Models](#Models)\n",
    "    - [Logistic Regression](#Logistic-Regression)\n",
    "    - [K-NN](#K-NN-Classification)\n",
    "    - [SVM](#SVM-Classifier)\n",
    "    - [Naive Bayes](#Naive-Bayes)\n",
    "    - [Decision Tree](#Decision-Tree)\n",
    "    - [Random Forest](#Random-Forest)\n",
    "    - [Neural Network](#Neural-Network)"
   ]
  },
  {
   "cell_type": "markdown",
   "id": "fa370a4f",
   "metadata": {},
   "source": [
    "## Import Libraries"
   ]
  },
  {
   "cell_type": "code",
   "execution_count": 1,
   "id": "866b0438",
   "metadata": {},
   "outputs": [],
   "source": [
    "import numpy as np\n",
    "import pandas as pd\n",
    "import matplotlib.pyplot as plt\n",
    "%matplotlib inline\n",
    "import seaborn as sns\n",
    "\n",
    "import warnings\n",
    "warnings.filterwarnings(\"ignore\")\n",
    "\n",
    "from sklearn.metrics import confusion_matrix, accuracy_score, classification_report"
   ]
  },
  {
   "cell_type": "markdown",
   "id": "fd746844",
   "metadata": {},
   "source": [
    "## Read Dataset\n",
    "\n",
    "About this dataset\n",
    "\n",
    "- Age : Age of the patient\n",
    "- Sex : Sex of the patient\n",
    "- exang: exercise induced angina \n",
    "    * Value 1: yes\n",
    "    * Value 0: no\n",
    "- ca: number of major vessels (0-3)\n",
    "- cp : Chest Pain type\n",
    "    * Value 1: typical angina\n",
    "    * Value 2: atypical angina\n",
    "    * Value 3: non-anginal pain\n",
    "    * Value 4: asymptomatic\n",
    "- trtbps : resting blood pressure (in mm Hg)\n",
    "- chol : cholestoral in mg/dl fetched via BMI sensor \n",
    "- fbs : (fasting blood sugar > 120 mg/dl) \n",
    "    * Value 1: true \n",
    "    * Value 0: false\n",
    "- rest_ecg : resting electrocardiographic results\n",
    "    * Value 0: normal\n",
    "    * Value 1: having ST-T wave abnormality (T wave inversions and/or ST elevation or depression of > 0.05 mV)\n",
    "    * Value 2: showing probable or definite left ventricular hypertrophy by Estes' criteria\n",
    "- thalach : maximum heart rate achieved\n",
    "- target : 0 = less chance of heart attack. 1 = more chance of heart attack"
   ]
  },
  {
   "cell_type": "code",
   "execution_count": 2,
   "id": "6d7b505b",
   "metadata": {},
   "outputs": [
    {
     "name": "stdout",
     "output_type": "stream",
     "text": [
      "Shape of dataset:  (303, 14)\n"
     ]
    },
    {
     "data": {
      "text/html": [
       "<div>\n",
       "<style scoped>\n",
       "    .dataframe tbody tr th:only-of-type {\n",
       "        vertical-align: middle;\n",
       "    }\n",
       "\n",
       "    .dataframe tbody tr th {\n",
       "        vertical-align: top;\n",
       "    }\n",
       "\n",
       "    .dataframe thead th {\n",
       "        text-align: right;\n",
       "    }\n",
       "</style>\n",
       "<table border=\"1\" class=\"dataframe\">\n",
       "  <thead>\n",
       "    <tr style=\"text-align: right;\">\n",
       "      <th></th>\n",
       "      <th>age</th>\n",
       "      <th>sex</th>\n",
       "      <th>cp</th>\n",
       "      <th>trtbps</th>\n",
       "      <th>chol</th>\n",
       "      <th>fbs</th>\n",
       "      <th>restecg</th>\n",
       "      <th>thalachh</th>\n",
       "      <th>exng</th>\n",
       "      <th>oldpeak</th>\n",
       "      <th>slp</th>\n",
       "      <th>caa</th>\n",
       "      <th>thall</th>\n",
       "      <th>output</th>\n",
       "    </tr>\n",
       "  </thead>\n",
       "  <tbody>\n",
       "    <tr>\n",
       "      <th>0</th>\n",
       "      <td>63</td>\n",
       "      <td>1</td>\n",
       "      <td>3</td>\n",
       "      <td>145</td>\n",
       "      <td>233</td>\n",
       "      <td>1</td>\n",
       "      <td>0</td>\n",
       "      <td>150</td>\n",
       "      <td>0</td>\n",
       "      <td>2.3</td>\n",
       "      <td>0</td>\n",
       "      <td>0</td>\n",
       "      <td>1</td>\n",
       "      <td>1</td>\n",
       "    </tr>\n",
       "    <tr>\n",
       "      <th>1</th>\n",
       "      <td>37</td>\n",
       "      <td>1</td>\n",
       "      <td>2</td>\n",
       "      <td>130</td>\n",
       "      <td>250</td>\n",
       "      <td>0</td>\n",
       "      <td>1</td>\n",
       "      <td>187</td>\n",
       "      <td>0</td>\n",
       "      <td>3.5</td>\n",
       "      <td>0</td>\n",
       "      <td>0</td>\n",
       "      <td>2</td>\n",
       "      <td>1</td>\n",
       "    </tr>\n",
       "    <tr>\n",
       "      <th>2</th>\n",
       "      <td>41</td>\n",
       "      <td>0</td>\n",
       "      <td>1</td>\n",
       "      <td>130</td>\n",
       "      <td>204</td>\n",
       "      <td>0</td>\n",
       "      <td>0</td>\n",
       "      <td>172</td>\n",
       "      <td>0</td>\n",
       "      <td>1.4</td>\n",
       "      <td>2</td>\n",
       "      <td>0</td>\n",
       "      <td>2</td>\n",
       "      <td>1</td>\n",
       "    </tr>\n",
       "    <tr>\n",
       "      <th>3</th>\n",
       "      <td>56</td>\n",
       "      <td>1</td>\n",
       "      <td>1</td>\n",
       "      <td>120</td>\n",
       "      <td>236</td>\n",
       "      <td>0</td>\n",
       "      <td>1</td>\n",
       "      <td>178</td>\n",
       "      <td>0</td>\n",
       "      <td>0.8</td>\n",
       "      <td>2</td>\n",
       "      <td>0</td>\n",
       "      <td>2</td>\n",
       "      <td>1</td>\n",
       "    </tr>\n",
       "    <tr>\n",
       "      <th>4</th>\n",
       "      <td>57</td>\n",
       "      <td>0</td>\n",
       "      <td>0</td>\n",
       "      <td>120</td>\n",
       "      <td>354</td>\n",
       "      <td>0</td>\n",
       "      <td>1</td>\n",
       "      <td>163</td>\n",
       "      <td>1</td>\n",
       "      <td>0.6</td>\n",
       "      <td>2</td>\n",
       "      <td>0</td>\n",
       "      <td>2</td>\n",
       "      <td>1</td>\n",
       "    </tr>\n",
       "  </tbody>\n",
       "</table>\n",
       "</div>"
      ],
      "text/plain": [
       "   age  sex  cp  trtbps  chol  fbs  restecg  thalachh  exng  oldpeak  slp  \\\n",
       "0   63    1   3     145   233    1        0       150     0      2.3    0   \n",
       "1   37    1   2     130   250    0        1       187     0      3.5    0   \n",
       "2   41    0   1     130   204    0        0       172     0      1.4    2   \n",
       "3   56    1   1     120   236    0        1       178     0      0.8    2   \n",
       "4   57    0   0     120   354    0        1       163     1      0.6    2   \n",
       "\n",
       "   caa  thall  output  \n",
       "0    0      1       1  \n",
       "1    0      2       1  \n",
       "2    0      2       1  \n",
       "3    0      2       1  \n",
       "4    0      2       1  "
      ]
     },
     "execution_count": 2,
     "metadata": {},
     "output_type": "execute_result"
    }
   ],
   "source": [
    "df = pd.read_csv('heart.csv')\n",
    "print('Shape of dataset: ', df.shape)\n",
    "df.head()"
   ]
  },
  {
   "cell_type": "code",
   "execution_count": 3,
   "id": "79d841e1",
   "metadata": {},
   "outputs": [
    {
     "name": "stdout",
     "output_type": "stream",
     "text": [
      "<class 'pandas.core.frame.DataFrame'>\n",
      "RangeIndex: 303 entries, 0 to 302\n",
      "Data columns (total 14 columns):\n",
      " #   Column    Non-Null Count  Dtype  \n",
      "---  ------    --------------  -----  \n",
      " 0   age       303 non-null    int64  \n",
      " 1   sex       303 non-null    int64  \n",
      " 2   cp        303 non-null    int64  \n",
      " 3   trtbps    303 non-null    int64  \n",
      " 4   chol      303 non-null    int64  \n",
      " 5   fbs       303 non-null    int64  \n",
      " 6   restecg   303 non-null    int64  \n",
      " 7   thalachh  303 non-null    int64  \n",
      " 8   exng      303 non-null    int64  \n",
      " 9   oldpeak   303 non-null    float64\n",
      " 10  slp       303 non-null    int64  \n",
      " 11  caa       303 non-null    int64  \n",
      " 12  thall     303 non-null    int64  \n",
      " 13  output    303 non-null    int64  \n",
      "dtypes: float64(1), int64(13)\n",
      "memory usage: 33.3 KB\n"
     ]
    }
   ],
   "source": [
    "df.info()"
   ]
  },
  {
   "cell_type": "code",
   "execution_count": 4,
   "id": "b7b50177",
   "metadata": {},
   "outputs": [
    {
     "data": {
      "text/html": [
       "<div>\n",
       "<style scoped>\n",
       "    .dataframe tbody tr th:only-of-type {\n",
       "        vertical-align: middle;\n",
       "    }\n",
       "\n",
       "    .dataframe tbody tr th {\n",
       "        vertical-align: top;\n",
       "    }\n",
       "\n",
       "    .dataframe thead th {\n",
       "        text-align: right;\n",
       "    }\n",
       "</style>\n",
       "<table border=\"1\" class=\"dataframe\">\n",
       "  <thead>\n",
       "    <tr style=\"text-align: right;\">\n",
       "      <th></th>\n",
       "      <th>count</th>\n",
       "      <th>mean</th>\n",
       "      <th>std</th>\n",
       "      <th>min</th>\n",
       "      <th>25%</th>\n",
       "      <th>50%</th>\n",
       "      <th>75%</th>\n",
       "      <th>max</th>\n",
       "    </tr>\n",
       "  </thead>\n",
       "  <tbody>\n",
       "    <tr>\n",
       "      <th>age</th>\n",
       "      <td>303.0</td>\n",
       "      <td>54.366337</td>\n",
       "      <td>9.082101</td>\n",
       "      <td>29.0</td>\n",
       "      <td>47.5</td>\n",
       "      <td>55.0</td>\n",
       "      <td>61.0</td>\n",
       "      <td>77.0</td>\n",
       "    </tr>\n",
       "    <tr>\n",
       "      <th>sex</th>\n",
       "      <td>303.0</td>\n",
       "      <td>0.683168</td>\n",
       "      <td>0.466011</td>\n",
       "      <td>0.0</td>\n",
       "      <td>0.0</td>\n",
       "      <td>1.0</td>\n",
       "      <td>1.0</td>\n",
       "      <td>1.0</td>\n",
       "    </tr>\n",
       "    <tr>\n",
       "      <th>cp</th>\n",
       "      <td>303.0</td>\n",
       "      <td>0.966997</td>\n",
       "      <td>1.032052</td>\n",
       "      <td>0.0</td>\n",
       "      <td>0.0</td>\n",
       "      <td>1.0</td>\n",
       "      <td>2.0</td>\n",
       "      <td>3.0</td>\n",
       "    </tr>\n",
       "    <tr>\n",
       "      <th>trtbps</th>\n",
       "      <td>303.0</td>\n",
       "      <td>131.623762</td>\n",
       "      <td>17.538143</td>\n",
       "      <td>94.0</td>\n",
       "      <td>120.0</td>\n",
       "      <td>130.0</td>\n",
       "      <td>140.0</td>\n",
       "      <td>200.0</td>\n",
       "    </tr>\n",
       "    <tr>\n",
       "      <th>chol</th>\n",
       "      <td>303.0</td>\n",
       "      <td>246.264026</td>\n",
       "      <td>51.830751</td>\n",
       "      <td>126.0</td>\n",
       "      <td>211.0</td>\n",
       "      <td>240.0</td>\n",
       "      <td>274.5</td>\n",
       "      <td>564.0</td>\n",
       "    </tr>\n",
       "    <tr>\n",
       "      <th>fbs</th>\n",
       "      <td>303.0</td>\n",
       "      <td>0.148515</td>\n",
       "      <td>0.356198</td>\n",
       "      <td>0.0</td>\n",
       "      <td>0.0</td>\n",
       "      <td>0.0</td>\n",
       "      <td>0.0</td>\n",
       "      <td>1.0</td>\n",
       "    </tr>\n",
       "    <tr>\n",
       "      <th>restecg</th>\n",
       "      <td>303.0</td>\n",
       "      <td>0.528053</td>\n",
       "      <td>0.525860</td>\n",
       "      <td>0.0</td>\n",
       "      <td>0.0</td>\n",
       "      <td>1.0</td>\n",
       "      <td>1.0</td>\n",
       "      <td>2.0</td>\n",
       "    </tr>\n",
       "    <tr>\n",
       "      <th>thalachh</th>\n",
       "      <td>303.0</td>\n",
       "      <td>149.646865</td>\n",
       "      <td>22.905161</td>\n",
       "      <td>71.0</td>\n",
       "      <td>133.5</td>\n",
       "      <td>153.0</td>\n",
       "      <td>166.0</td>\n",
       "      <td>202.0</td>\n",
       "    </tr>\n",
       "    <tr>\n",
       "      <th>exng</th>\n",
       "      <td>303.0</td>\n",
       "      <td>0.326733</td>\n",
       "      <td>0.469794</td>\n",
       "      <td>0.0</td>\n",
       "      <td>0.0</td>\n",
       "      <td>0.0</td>\n",
       "      <td>1.0</td>\n",
       "      <td>1.0</td>\n",
       "    </tr>\n",
       "    <tr>\n",
       "      <th>oldpeak</th>\n",
       "      <td>303.0</td>\n",
       "      <td>1.039604</td>\n",
       "      <td>1.161075</td>\n",
       "      <td>0.0</td>\n",
       "      <td>0.0</td>\n",
       "      <td>0.8</td>\n",
       "      <td>1.6</td>\n",
       "      <td>6.2</td>\n",
       "    </tr>\n",
       "    <tr>\n",
       "      <th>slp</th>\n",
       "      <td>303.0</td>\n",
       "      <td>1.399340</td>\n",
       "      <td>0.616226</td>\n",
       "      <td>0.0</td>\n",
       "      <td>1.0</td>\n",
       "      <td>1.0</td>\n",
       "      <td>2.0</td>\n",
       "      <td>2.0</td>\n",
       "    </tr>\n",
       "    <tr>\n",
       "      <th>caa</th>\n",
       "      <td>303.0</td>\n",
       "      <td>0.729373</td>\n",
       "      <td>1.022606</td>\n",
       "      <td>0.0</td>\n",
       "      <td>0.0</td>\n",
       "      <td>0.0</td>\n",
       "      <td>1.0</td>\n",
       "      <td>4.0</td>\n",
       "    </tr>\n",
       "    <tr>\n",
       "      <th>thall</th>\n",
       "      <td>303.0</td>\n",
       "      <td>2.313531</td>\n",
       "      <td>0.612277</td>\n",
       "      <td>0.0</td>\n",
       "      <td>2.0</td>\n",
       "      <td>2.0</td>\n",
       "      <td>3.0</td>\n",
       "      <td>3.0</td>\n",
       "    </tr>\n",
       "    <tr>\n",
       "      <th>output</th>\n",
       "      <td>303.0</td>\n",
       "      <td>0.544554</td>\n",
       "      <td>0.498835</td>\n",
       "      <td>0.0</td>\n",
       "      <td>0.0</td>\n",
       "      <td>1.0</td>\n",
       "      <td>1.0</td>\n",
       "      <td>1.0</td>\n",
       "    </tr>\n",
       "  </tbody>\n",
       "</table>\n",
       "</div>"
      ],
      "text/plain": [
       "          count        mean        std    min    25%    50%    75%    max\n",
       "age       303.0   54.366337   9.082101   29.0   47.5   55.0   61.0   77.0\n",
       "sex       303.0    0.683168   0.466011    0.0    0.0    1.0    1.0    1.0\n",
       "cp        303.0    0.966997   1.032052    0.0    0.0    1.0    2.0    3.0\n",
       "trtbps    303.0  131.623762  17.538143   94.0  120.0  130.0  140.0  200.0\n",
       "chol      303.0  246.264026  51.830751  126.0  211.0  240.0  274.5  564.0\n",
       "fbs       303.0    0.148515   0.356198    0.0    0.0    0.0    0.0    1.0\n",
       "restecg   303.0    0.528053   0.525860    0.0    0.0    1.0    1.0    2.0\n",
       "thalachh  303.0  149.646865  22.905161   71.0  133.5  153.0  166.0  202.0\n",
       "exng      303.0    0.326733   0.469794    0.0    0.0    0.0    1.0    1.0\n",
       "oldpeak   303.0    1.039604   1.161075    0.0    0.0    0.8    1.6    6.2\n",
       "slp       303.0    1.399340   0.616226    0.0    1.0    1.0    2.0    2.0\n",
       "caa       303.0    0.729373   1.022606    0.0    0.0    0.0    1.0    4.0\n",
       "thall     303.0    2.313531   0.612277    0.0    2.0    2.0    3.0    3.0\n",
       "output    303.0    0.544554   0.498835    0.0    0.0    1.0    1.0    1.0"
      ]
     },
     "execution_count": 4,
     "metadata": {},
     "output_type": "execute_result"
    }
   ],
   "source": [
    "df.describe().T"
   ]
  },
  {
   "cell_type": "code",
   "execution_count": 5,
   "id": "bc8ac8d0",
   "metadata": {},
   "outputs": [
    {
     "data": {
      "text/html": [
       "<div>\n",
       "<style scoped>\n",
       "    .dataframe tbody tr th:only-of-type {\n",
       "        vertical-align: middle;\n",
       "    }\n",
       "\n",
       "    .dataframe tbody tr th {\n",
       "        vertical-align: top;\n",
       "    }\n",
       "\n",
       "    .dataframe thead th {\n",
       "        text-align: right;\n",
       "    }\n",
       "</style>\n",
       "<table border=\"1\" class=\"dataframe\">\n",
       "  <thead>\n",
       "    <tr style=\"text-align: right;\">\n",
       "      <th></th>\n",
       "      <th>age</th>\n",
       "      <th>sex</th>\n",
       "      <th>cp</th>\n",
       "      <th>trtbps</th>\n",
       "      <th>chol</th>\n",
       "      <th>fbs</th>\n",
       "      <th>restecg</th>\n",
       "      <th>thalachh</th>\n",
       "      <th>exng</th>\n",
       "      <th>oldpeak</th>\n",
       "      <th>slp</th>\n",
       "      <th>caa</th>\n",
       "      <th>thall</th>\n",
       "      <th>output</th>\n",
       "    </tr>\n",
       "  </thead>\n",
       "  <tbody>\n",
       "    <tr>\n",
       "      <th>age</th>\n",
       "      <td>1.000000</td>\n",
       "      <td>-0.098447</td>\n",
       "      <td>-0.068653</td>\n",
       "      <td>0.279351</td>\n",
       "      <td>0.213678</td>\n",
       "      <td>0.121308</td>\n",
       "      <td>-0.116211</td>\n",
       "      <td>-0.398522</td>\n",
       "      <td>0.096801</td>\n",
       "      <td>0.210013</td>\n",
       "      <td>-0.168814</td>\n",
       "      <td>0.276326</td>\n",
       "      <td>0.068001</td>\n",
       "      <td>-0.225439</td>\n",
       "    </tr>\n",
       "    <tr>\n",
       "      <th>sex</th>\n",
       "      <td>-0.098447</td>\n",
       "      <td>1.000000</td>\n",
       "      <td>-0.049353</td>\n",
       "      <td>-0.056769</td>\n",
       "      <td>-0.197912</td>\n",
       "      <td>0.045032</td>\n",
       "      <td>-0.058196</td>\n",
       "      <td>-0.044020</td>\n",
       "      <td>0.141664</td>\n",
       "      <td>0.096093</td>\n",
       "      <td>-0.030711</td>\n",
       "      <td>0.118261</td>\n",
       "      <td>0.210041</td>\n",
       "      <td>-0.280937</td>\n",
       "    </tr>\n",
       "    <tr>\n",
       "      <th>cp</th>\n",
       "      <td>-0.068653</td>\n",
       "      <td>-0.049353</td>\n",
       "      <td>1.000000</td>\n",
       "      <td>0.047608</td>\n",
       "      <td>-0.076904</td>\n",
       "      <td>0.094444</td>\n",
       "      <td>0.044421</td>\n",
       "      <td>0.295762</td>\n",
       "      <td>-0.394280</td>\n",
       "      <td>-0.149230</td>\n",
       "      <td>0.119717</td>\n",
       "      <td>-0.181053</td>\n",
       "      <td>-0.161736</td>\n",
       "      <td>0.433798</td>\n",
       "    </tr>\n",
       "    <tr>\n",
       "      <th>trtbps</th>\n",
       "      <td>0.279351</td>\n",
       "      <td>-0.056769</td>\n",
       "      <td>0.047608</td>\n",
       "      <td>1.000000</td>\n",
       "      <td>0.123174</td>\n",
       "      <td>0.177531</td>\n",
       "      <td>-0.114103</td>\n",
       "      <td>-0.046698</td>\n",
       "      <td>0.067616</td>\n",
       "      <td>0.193216</td>\n",
       "      <td>-0.121475</td>\n",
       "      <td>0.101389</td>\n",
       "      <td>0.062210</td>\n",
       "      <td>-0.144931</td>\n",
       "    </tr>\n",
       "    <tr>\n",
       "      <th>chol</th>\n",
       "      <td>0.213678</td>\n",
       "      <td>-0.197912</td>\n",
       "      <td>-0.076904</td>\n",
       "      <td>0.123174</td>\n",
       "      <td>1.000000</td>\n",
       "      <td>0.013294</td>\n",
       "      <td>-0.151040</td>\n",
       "      <td>-0.009940</td>\n",
       "      <td>0.067023</td>\n",
       "      <td>0.053952</td>\n",
       "      <td>-0.004038</td>\n",
       "      <td>0.070511</td>\n",
       "      <td>0.098803</td>\n",
       "      <td>-0.085239</td>\n",
       "    </tr>\n",
       "    <tr>\n",
       "      <th>fbs</th>\n",
       "      <td>0.121308</td>\n",
       "      <td>0.045032</td>\n",
       "      <td>0.094444</td>\n",
       "      <td>0.177531</td>\n",
       "      <td>0.013294</td>\n",
       "      <td>1.000000</td>\n",
       "      <td>-0.084189</td>\n",
       "      <td>-0.008567</td>\n",
       "      <td>0.025665</td>\n",
       "      <td>0.005747</td>\n",
       "      <td>-0.059894</td>\n",
       "      <td>0.137979</td>\n",
       "      <td>-0.032019</td>\n",
       "      <td>-0.028046</td>\n",
       "    </tr>\n",
       "    <tr>\n",
       "      <th>restecg</th>\n",
       "      <td>-0.116211</td>\n",
       "      <td>-0.058196</td>\n",
       "      <td>0.044421</td>\n",
       "      <td>-0.114103</td>\n",
       "      <td>-0.151040</td>\n",
       "      <td>-0.084189</td>\n",
       "      <td>1.000000</td>\n",
       "      <td>0.044123</td>\n",
       "      <td>-0.070733</td>\n",
       "      <td>-0.058770</td>\n",
       "      <td>0.093045</td>\n",
       "      <td>-0.072042</td>\n",
       "      <td>-0.011981</td>\n",
       "      <td>0.137230</td>\n",
       "    </tr>\n",
       "    <tr>\n",
       "      <th>thalachh</th>\n",
       "      <td>-0.398522</td>\n",
       "      <td>-0.044020</td>\n",
       "      <td>0.295762</td>\n",
       "      <td>-0.046698</td>\n",
       "      <td>-0.009940</td>\n",
       "      <td>-0.008567</td>\n",
       "      <td>0.044123</td>\n",
       "      <td>1.000000</td>\n",
       "      <td>-0.378812</td>\n",
       "      <td>-0.344187</td>\n",
       "      <td>0.386784</td>\n",
       "      <td>-0.213177</td>\n",
       "      <td>-0.096439</td>\n",
       "      <td>0.421741</td>\n",
       "    </tr>\n",
       "    <tr>\n",
       "      <th>exng</th>\n",
       "      <td>0.096801</td>\n",
       "      <td>0.141664</td>\n",
       "      <td>-0.394280</td>\n",
       "      <td>0.067616</td>\n",
       "      <td>0.067023</td>\n",
       "      <td>0.025665</td>\n",
       "      <td>-0.070733</td>\n",
       "      <td>-0.378812</td>\n",
       "      <td>1.000000</td>\n",
       "      <td>0.288223</td>\n",
       "      <td>-0.257748</td>\n",
       "      <td>0.115739</td>\n",
       "      <td>0.206754</td>\n",
       "      <td>-0.436757</td>\n",
       "    </tr>\n",
       "    <tr>\n",
       "      <th>oldpeak</th>\n",
       "      <td>0.210013</td>\n",
       "      <td>0.096093</td>\n",
       "      <td>-0.149230</td>\n",
       "      <td>0.193216</td>\n",
       "      <td>0.053952</td>\n",
       "      <td>0.005747</td>\n",
       "      <td>-0.058770</td>\n",
       "      <td>-0.344187</td>\n",
       "      <td>0.288223</td>\n",
       "      <td>1.000000</td>\n",
       "      <td>-0.577537</td>\n",
       "      <td>0.222682</td>\n",
       "      <td>0.210244</td>\n",
       "      <td>-0.430696</td>\n",
       "    </tr>\n",
       "    <tr>\n",
       "      <th>slp</th>\n",
       "      <td>-0.168814</td>\n",
       "      <td>-0.030711</td>\n",
       "      <td>0.119717</td>\n",
       "      <td>-0.121475</td>\n",
       "      <td>-0.004038</td>\n",
       "      <td>-0.059894</td>\n",
       "      <td>0.093045</td>\n",
       "      <td>0.386784</td>\n",
       "      <td>-0.257748</td>\n",
       "      <td>-0.577537</td>\n",
       "      <td>1.000000</td>\n",
       "      <td>-0.080155</td>\n",
       "      <td>-0.104764</td>\n",
       "      <td>0.345877</td>\n",
       "    </tr>\n",
       "    <tr>\n",
       "      <th>caa</th>\n",
       "      <td>0.276326</td>\n",
       "      <td>0.118261</td>\n",
       "      <td>-0.181053</td>\n",
       "      <td>0.101389</td>\n",
       "      <td>0.070511</td>\n",
       "      <td>0.137979</td>\n",
       "      <td>-0.072042</td>\n",
       "      <td>-0.213177</td>\n",
       "      <td>0.115739</td>\n",
       "      <td>0.222682</td>\n",
       "      <td>-0.080155</td>\n",
       "      <td>1.000000</td>\n",
       "      <td>0.151832</td>\n",
       "      <td>-0.391724</td>\n",
       "    </tr>\n",
       "    <tr>\n",
       "      <th>thall</th>\n",
       "      <td>0.068001</td>\n",
       "      <td>0.210041</td>\n",
       "      <td>-0.161736</td>\n",
       "      <td>0.062210</td>\n",
       "      <td>0.098803</td>\n",
       "      <td>-0.032019</td>\n",
       "      <td>-0.011981</td>\n",
       "      <td>-0.096439</td>\n",
       "      <td>0.206754</td>\n",
       "      <td>0.210244</td>\n",
       "      <td>-0.104764</td>\n",
       "      <td>0.151832</td>\n",
       "      <td>1.000000</td>\n",
       "      <td>-0.344029</td>\n",
       "    </tr>\n",
       "    <tr>\n",
       "      <th>output</th>\n",
       "      <td>-0.225439</td>\n",
       "      <td>-0.280937</td>\n",
       "      <td>0.433798</td>\n",
       "      <td>-0.144931</td>\n",
       "      <td>-0.085239</td>\n",
       "      <td>-0.028046</td>\n",
       "      <td>0.137230</td>\n",
       "      <td>0.421741</td>\n",
       "      <td>-0.436757</td>\n",
       "      <td>-0.430696</td>\n",
       "      <td>0.345877</td>\n",
       "      <td>-0.391724</td>\n",
       "      <td>-0.344029</td>\n",
       "      <td>1.000000</td>\n",
       "    </tr>\n",
       "  </tbody>\n",
       "</table>\n",
       "</div>"
      ],
      "text/plain": [
       "               age       sex        cp    trtbps      chol       fbs  \\\n",
       "age       1.000000 -0.098447 -0.068653  0.279351  0.213678  0.121308   \n",
       "sex      -0.098447  1.000000 -0.049353 -0.056769 -0.197912  0.045032   \n",
       "cp       -0.068653 -0.049353  1.000000  0.047608 -0.076904  0.094444   \n",
       "trtbps    0.279351 -0.056769  0.047608  1.000000  0.123174  0.177531   \n",
       "chol      0.213678 -0.197912 -0.076904  0.123174  1.000000  0.013294   \n",
       "fbs       0.121308  0.045032  0.094444  0.177531  0.013294  1.000000   \n",
       "restecg  -0.116211 -0.058196  0.044421 -0.114103 -0.151040 -0.084189   \n",
       "thalachh -0.398522 -0.044020  0.295762 -0.046698 -0.009940 -0.008567   \n",
       "exng      0.096801  0.141664 -0.394280  0.067616  0.067023  0.025665   \n",
       "oldpeak   0.210013  0.096093 -0.149230  0.193216  0.053952  0.005747   \n",
       "slp      -0.168814 -0.030711  0.119717 -0.121475 -0.004038 -0.059894   \n",
       "caa       0.276326  0.118261 -0.181053  0.101389  0.070511  0.137979   \n",
       "thall     0.068001  0.210041 -0.161736  0.062210  0.098803 -0.032019   \n",
       "output   -0.225439 -0.280937  0.433798 -0.144931 -0.085239 -0.028046   \n",
       "\n",
       "           restecg  thalachh      exng   oldpeak       slp       caa  \\\n",
       "age      -0.116211 -0.398522  0.096801  0.210013 -0.168814  0.276326   \n",
       "sex      -0.058196 -0.044020  0.141664  0.096093 -0.030711  0.118261   \n",
       "cp        0.044421  0.295762 -0.394280 -0.149230  0.119717 -0.181053   \n",
       "trtbps   -0.114103 -0.046698  0.067616  0.193216 -0.121475  0.101389   \n",
       "chol     -0.151040 -0.009940  0.067023  0.053952 -0.004038  0.070511   \n",
       "fbs      -0.084189 -0.008567  0.025665  0.005747 -0.059894  0.137979   \n",
       "restecg   1.000000  0.044123 -0.070733 -0.058770  0.093045 -0.072042   \n",
       "thalachh  0.044123  1.000000 -0.378812 -0.344187  0.386784 -0.213177   \n",
       "exng     -0.070733 -0.378812  1.000000  0.288223 -0.257748  0.115739   \n",
       "oldpeak  -0.058770 -0.344187  0.288223  1.000000 -0.577537  0.222682   \n",
       "slp       0.093045  0.386784 -0.257748 -0.577537  1.000000 -0.080155   \n",
       "caa      -0.072042 -0.213177  0.115739  0.222682 -0.080155  1.000000   \n",
       "thall    -0.011981 -0.096439  0.206754  0.210244 -0.104764  0.151832   \n",
       "output    0.137230  0.421741 -0.436757 -0.430696  0.345877 -0.391724   \n",
       "\n",
       "             thall    output  \n",
       "age       0.068001 -0.225439  \n",
       "sex       0.210041 -0.280937  \n",
       "cp       -0.161736  0.433798  \n",
       "trtbps    0.062210 -0.144931  \n",
       "chol      0.098803 -0.085239  \n",
       "fbs      -0.032019 -0.028046  \n",
       "restecg  -0.011981  0.137230  \n",
       "thalachh -0.096439  0.421741  \n",
       "exng      0.206754 -0.436757  \n",
       "oldpeak   0.210244 -0.430696  \n",
       "slp      -0.104764  0.345877  \n",
       "caa       0.151832 -0.391724  \n",
       "thall     1.000000 -0.344029  \n",
       "output   -0.344029  1.000000  "
      ]
     },
     "execution_count": 5,
     "metadata": {},
     "output_type": "execute_result"
    }
   ],
   "source": [
    "df.corr()"
   ]
  },
  {
   "cell_type": "code",
   "execution_count": 6,
   "id": "d63e1375",
   "metadata": {},
   "outputs": [
    {
     "data": {
      "text/plain": [
       "exng       -0.436757\n",
       "oldpeak    -0.430696\n",
       "caa        -0.391724\n",
       "thall      -0.344029\n",
       "sex        -0.280937\n",
       "age        -0.225439\n",
       "trtbps     -0.144931\n",
       "chol       -0.085239\n",
       "fbs        -0.028046\n",
       "restecg     0.137230\n",
       "slp         0.345877\n",
       "thalachh    0.421741\n",
       "cp          0.433798\n",
       "output      1.000000\n",
       "Name: output, dtype: float64"
      ]
     },
     "execution_count": 6,
     "metadata": {},
     "output_type": "execute_result"
    }
   ],
   "source": [
    "df.corr()['output'].sort_values()"
   ]
  },
  {
   "cell_type": "markdown",
   "id": "3e816c98",
   "metadata": {},
   "source": [
    "#### Age Distribution"
   ]
  },
  {
   "cell_type": "code",
   "execution_count": 7,
   "id": "f37b1cb9",
   "metadata": {},
   "outputs": [
    {
     "data": {
      "text/plain": [
       "Text(0.5, 1.0, 'Age Distribution of the Patients')"
      ]
     },
     "execution_count": 7,
     "metadata": {},
     "output_type": "execute_result"
    },
    {
     "data": {
      "image/png": "[encoded data removed]",
      "text/plain": [
       "<Figure size 432x288 with 1 Axes>"
      ]
     },
     "metadata": {
      "needs_background": "light"
     },
     "output_type": "display_data"
    }
   ],
   "source": [
    "#sns.histplot(df['age'])\n",
    "sns.histplot(df.age)\n",
    "plt.title('Age Distribution of the Patients')"
   ]
  },
  {
   "cell_type": "markdown",
   "id": "13e524fa",
   "metadata": {},
   "source": [
    "#### Gender Distribution"
   ]
  },
  {
   "cell_type": "code",
   "execution_count": 8,
   "id": "9834dc9e",
   "metadata": {},
   "outputs": [
    {
     "data": {
      "text/html": [
       "<div>\n",
       "<style scoped>\n",
       "    .dataframe tbody tr th:only-of-type {\n",
       "        vertical-align: middle;\n",
       "    }\n",
       "\n",
       "    .dataframe tbody tr th {\n",
       "        vertical-align: top;\n",
       "    }\n",
       "\n",
       "    .dataframe thead th {\n",
       "        text-align: right;\n",
       "    }\n",
       "</style>\n",
       "<table border=\"1\" class=\"dataframe\">\n",
       "  <thead>\n",
       "    <tr style=\"text-align: right;\">\n",
       "      <th></th>\n",
       "      <th>sex</th>\n",
       "    </tr>\n",
       "  </thead>\n",
       "  <tbody>\n",
       "    <tr>\n",
       "      <th>1</th>\n",
       "      <td>207</td>\n",
       "    </tr>\n",
       "    <tr>\n",
       "      <th>0</th>\n",
       "      <td>96</td>\n",
       "    </tr>\n",
       "  </tbody>\n",
       "</table>\n",
       "</div>"
      ],
      "text/plain": [
       "   sex\n",
       "1  207\n",
       "0   96"
      ]
     },
     "execution_count": 8,
     "metadata": {},
     "output_type": "execute_result"
    }
   ],
   "source": [
    "df.sex.value_counts().to_frame()"
   ]
  },
  {
   "cell_type": "markdown",
   "id": "9a20cb30",
   "metadata": {},
   "source": [
    "* 1: Male\n",
    "* 0: Female"
   ]
  },
  {
   "cell_type": "markdown",
   "id": "0a3bc818",
   "metadata": {},
   "source": [
    "#### Chest Pain Type"
   ]
  },
  {
   "cell_type": "code",
   "execution_count": 9,
   "id": "fab37117",
   "metadata": {},
   "outputs": [
    {
     "data": {
      "text/plain": [
       "Text(0.5, 1.0, 'Chest Pain Type Distribution')"
      ]
     },
     "execution_count": 9,
     "metadata": {},
     "output_type": "execute_result"
    },
    {
     "data": {
      "image/png": "[encoded data removed]",
      "text/plain": [
       "<Figure size 432x288 with 1 Axes>"
      ]
     },
     "metadata": {
      "needs_background": "light"
     },
     "output_type": "display_data"
    }
   ],
   "source": [
    "sns.countplot(df.cp)\n",
    "plt.title('Chest Pain Type Distribution')"
   ]
  },
  {
   "cell_type": "markdown",
   "id": "630de359",
   "metadata": {},
   "source": [
    "#### Resting Blood Pressure"
   ]
  },
  {
   "cell_type": "code",
   "execution_count": 10,
   "id": "d0d143db",
   "metadata": {},
   "outputs": [
    {
     "data": {
      "text/plain": [
       "Text(0.5, 1.0, 'Resting Blood Pressure Distribution')"
      ]
     },
     "execution_count": 10,
     "metadata": {},
     "output_type": "execute_result"
    },
    {
     "data": {
      "image/png": "[encoded data removed]",
      "text/plain": [
       "<Figure size 360x360 with 1 Axes>"
      ]
     },
     "metadata": {
      "needs_background": "light"
     },
     "output_type": "display_data"
    }
   ],
   "source": [
    "sns.displot(df.trtbps)\n",
    "plt.title('Resting Blood Pressure Distribution')"
   ]
  },
  {
   "cell_type": "markdown",
   "id": "99952269",
   "metadata": {},
   "source": [
    "#### Cholesterol"
   ]
  },
  {
   "cell_type": "code",
   "execution_count": 11,
   "id": "9058a9e3",
   "metadata": {},
   "outputs": [
    {
     "data": {
      "text/plain": [
       "Text(0.5, 1.0, 'Cholesterol Distribution')"
      ]
     },
     "execution_count": 11,
     "metadata": {},
     "output_type": "execute_result"
    },
    {
     "data": {
      "image/png": "[encoded data removed]",
      "text/plain": [
       "<Figure size 432x288 with 1 Axes>"
      ]
     },
     "metadata": {
      "needs_background": "light"
     },
     "output_type": "display_data"
    }
   ],
   "source": [
    "sns.distplot(df.chol)\n",
    "plt.title('Cholesterol Distribution')"
   ]
  },
  {
   "cell_type": "markdown",
   "id": "21661717",
   "metadata": {},
   "source": [
    "#### Fasting Blood Sugar"
   ]
  },
  {
   "cell_type": "code",
   "execution_count": 12,
   "id": "df9d2c77",
   "metadata": {},
   "outputs": [
    {
     "data": {
      "text/html": [
       "<div>\n",
       "<style scoped>\n",
       "    .dataframe tbody tr th:only-of-type {\n",
       "        vertical-align: middle;\n",
       "    }\n",
       "\n",
       "    .dataframe tbody tr th {\n",
       "        vertical-align: top;\n",
       "    }\n",
       "\n",
       "    .dataframe thead th {\n",
       "        text-align: right;\n",
       "    }\n",
       "</style>\n",
       "<table border=\"1\" class=\"dataframe\">\n",
       "  <thead>\n",
       "    <tr style=\"text-align: right;\">\n",
       "      <th></th>\n",
       "      <th>fbs</th>\n",
       "    </tr>\n",
       "  </thead>\n",
       "  <tbody>\n",
       "    <tr>\n",
       "      <th>0</th>\n",
       "      <td>258</td>\n",
       "    </tr>\n",
       "    <tr>\n",
       "      <th>1</th>\n",
       "      <td>45</td>\n",
       "    </tr>\n",
       "  </tbody>\n",
       "</table>\n",
       "</div>"
      ],
      "text/plain": [
       "   fbs\n",
       "0  258\n",
       "1   45"
      ]
     },
     "execution_count": 12,
     "metadata": {},
     "output_type": "execute_result"
    }
   ],
   "source": [
    "df.fbs.value_counts().to_frame()"
   ]
  },
  {
   "cell_type": "markdown",
   "id": "dbfeea9a",
   "metadata": {},
   "source": [
    "* 0: Good blood sugar\n",
    "* 1: Bad blood sugar"
   ]
  },
  {
   "cell_type": "markdown",
   "id": "0f1bc933",
   "metadata": {},
   "source": [
    "#### Resting Electrocardiographic Results"
   ]
  },
  {
   "cell_type": "code",
   "execution_count": 13,
   "id": "ef05f017",
   "metadata": {},
   "outputs": [
    {
     "data": {
      "text/plain": [
       "Text(0.5, 1.0, 'Resting Electrocardiographic Results Distribution')"
      ]
     },
     "execution_count": 13,
     "metadata": {},
     "output_type": "execute_result"
    },
    {
     "data": {
      "image/png": "[encoded data removed]",
      "text/plain": [
       "<Figure size 432x288 with 1 Axes>"
      ]
     },
     "metadata": {
      "needs_background": "light"
     },
     "output_type": "display_data"
    }
   ],
   "source": [
    "sns.countplot(df.restecg)\n",
    "plt.title('Resting Electrocardiographic Results Distribution')"
   ]
  },
  {
   "cell_type": "markdown",
   "id": "0360bb9c",
   "metadata": {},
   "source": [
    "#### Maximum Heart Rate"
   ]
  },
  {
   "cell_type": "code",
   "execution_count": 14,
   "id": "10c0eac7",
   "metadata": {},
   "outputs": [
    {
     "data": {
      "text/plain": [
       "Text(0.5, 1.0, 'Maximum Heart Rate Achieved Distribution')"
      ]
     },
     "execution_count": 14,
     "metadata": {},
     "output_type": "execute_result"
    },
    {
     "data": {
      "image/png": "[encoded data removed]",
      "text/plain": [
       "<Figure size 432x288 with 1 Axes>"
      ]
     },
     "metadata": {
      "needs_background": "light"
     },
     "output_type": "display_data"
    }
   ],
   "source": [
    "sns.histplot(df.thalachh)\n",
    "plt.title('Maximum Heart Rate Achieved Distribution')"
   ]
  },
  {
   "cell_type": "markdown",
   "id": "93cd02fc",
   "metadata": {},
   "source": [
    "#### Exercise Induced Angina"
   ]
  },
  {
   "cell_type": "code",
   "execution_count": 15,
   "id": "071d4446",
   "metadata": {},
   "outputs": [
    {
     "data": {
      "text/html": [
       "<div>\n",
       "<style scoped>\n",
       "    .dataframe tbody tr th:only-of-type {\n",
       "        vertical-align: middle;\n",
       "    }\n",
       "\n",
       "    .dataframe tbody tr th {\n",
       "        vertical-align: top;\n",
       "    }\n",
       "\n",
       "    .dataframe thead th {\n",
       "        text-align: right;\n",
       "    }\n",
       "</style>\n",
       "<table border=\"1\" class=\"dataframe\">\n",
       "  <thead>\n",
       "    <tr style=\"text-align: right;\">\n",
       "      <th></th>\n",
       "      <th>exng</th>\n",
       "    </tr>\n",
       "  </thead>\n",
       "  <tbody>\n",
       "    <tr>\n",
       "      <th>0</th>\n",
       "      <td>204</td>\n",
       "    </tr>\n",
       "    <tr>\n",
       "      <th>1</th>\n",
       "      <td>99</td>\n",
       "    </tr>\n",
       "  </tbody>\n",
       "</table>\n",
       "</div>"
      ],
      "text/plain": [
       "   exng\n",
       "0   204\n",
       "1    99"
      ]
     },
     "execution_count": 15,
     "metadata": {},
     "output_type": "execute_result"
    }
   ],
   "source": [
    "df.exng.value_counts().to_frame()"
   ]
  },
  {
   "cell_type": "markdown",
   "id": "fe3a33e6",
   "metadata": {},
   "source": [
    "#### Output"
   ]
  },
  {
   "cell_type": "code",
   "execution_count": 16,
   "id": "d3e89ffe",
   "metadata": {},
   "outputs": [
    {
     "data": {
      "text/plain": [
       "<AxesSubplot:xlabel='output', ylabel='count'>"
      ]
     },
     "execution_count": 16,
     "metadata": {},
     "output_type": "execute_result"
    },
    {
     "data": {
      "image/png": "[encoded data removed]",
      "text/plain": [
       "<Figure size 432x288 with 1 Axes>"
      ]
     },
     "metadata": {
      "needs_background": "light"
     },
     "output_type": "display_data"
    }
   ],
   "source": [
    "sns.countplot(df['output'])   # from seaborn"
   ]
  },
  {
   "cell_type": "code",
   "execution_count": 17,
   "id": "26a05b00",
   "metadata": {},
   "outputs": [
    {
     "data": {
      "text/plain": [
       "<AxesSubplot:>"
      ]
     },
     "execution_count": 17,
     "metadata": {},
     "output_type": "execute_result"
    },
    {
     "data": {
      "image/png": "[encoded data removed]",
      "text/plain": [
       "<Figure size 432x288 with 1 Axes>"
      ]
     },
     "metadata": {
      "needs_background": "light"
     },
     "output_type": "display_data"
    }
   ],
   "source": [
    "df.corr()['output'].sort_values().plot(kind = 'bar')    # from matplotlib"
   ]
  },
  {
   "cell_type": "markdown",
   "id": "3e9264e3",
   "metadata": {},
   "source": [
    "## Data Preprocess"
   ]
  },
  {
   "cell_type": "code",
   "execution_count": 18,
   "id": "40c2e10e",
   "metadata": {},
   "outputs": [
    {
     "data": {
      "text/plain": [
       "(302, 14)"
      ]
     },
     "execution_count": 18,
     "metadata": {},
     "output_type": "execute_result"
    }
   ],
   "source": [
    "df.drop_duplicates(inplace = True)\n",
    "df.reset_index(drop = True, inplace = True)\n",
    "df.shape"
   ]
  },
  {
   "cell_type": "markdown",
   "id": "6f028b25",
   "metadata": {},
   "source": [
    "### Remove Outliers"
   ]
  },
  {
   "cell_type": "code",
   "execution_count": 19,
   "id": "926b05e1",
   "metadata": {},
   "outputs": [],
   "source": [
    "features = ['age', 'trtbps', 'chol', 'thalachh', 'oldpeak']"
   ]
  },
  {
   "cell_type": "code",
   "execution_count": 20,
   "id": "2459a246",
   "metadata": {},
   "outputs": [
    {
     "data": {
      "image/png": "[encoded data removed]",
      "text/plain": [
       "<Figure size 864x504 with 5 Axes>"
      ]
     },
     "metadata": {
      "needs_background": "light"
     },
     "output_type": "display_data"
    }
   ],
   "source": [
    "fig, ax = plt.subplots(len(features), 1, figsize = (12,7))\n",
    "\n",
    "for i,j in zip(range(0, len(features)), features):\n",
    "    sns.boxplot(ax = ax[i], x = df[j])\n",
    "plt.subplots_adjust(hspace = 1) "
   ]
  },
  {
   "cell_type": "code",
   "execution_count": 21,
   "id": "32daadf9",
   "metadata": {},
   "outputs": [
    {
     "name": "stdout",
     "output_type": "stream",
     "text": [
      "Outlier indexes:  [array([ 28,  85, 101, 110, 202, 203, 219, 220, 222, 245, 247, 249, 259,\n",
      "       265, 271, 290], dtype=int64)]\n",
      "     age  sex  cp  trtbps  chol  fbs  restecg  thalachh  exng  oldpeak  slp  \\\n",
      "0     63    1   3     145   233    1        0       150     0      2.3    0   \n",
      "1     37    1   2     130   250    0        1       187     0      3.5    0   \n",
      "2     41    0   1     130   204    0        0       172     0      1.4    2   \n",
      "3     56    1   1     120   236    0        1       178     0      0.8    2   \n",
      "4     57    0   0     120   354    0        1       163     1      0.6    2   \n",
      "..   ...  ...  ..     ...   ...  ...      ...       ...   ...      ...  ...   \n",
      "297   57    0   0     140   241    0        1       123     1      0.2    1   \n",
      "298   45    1   3     110   264    0        1       132     0      1.2    1   \n",
      "299   68    1   0     144   193    1        1       141     0      3.4    1   \n",
      "300   57    1   0     130   131    0        1       115     1      1.2    1   \n",
      "301   57    0   1     130   236    0        0       174     0      0.0    1   \n",
      "\n",
      "     caa  thall  output  \n",
      "0      0      1       1  \n",
      "1      0      2       1  \n",
      "2      0      2       1  \n",
      "3      0      2       1  \n",
      "4      0      2       1  \n",
      "..   ...    ...     ...  \n",
      "297    0      3       0  \n",
      "298    0      3       0  \n",
      "299    2      3       0  \n",
      "300    1      3       0  \n",
      "301    1      2       0  \n",
      "\n",
      "[286 rows x 14 columns]\n"
     ]
    }
   ],
   "source": [
    "df_without_outlier = df.copy()\n",
    "\n",
    "outlier_indexes = list(np.where((df['trtbps'] > 175) | \n",
    "                                (df['chol'] > 400) | \n",
    "                                (df['thalachh'] < 80) | \n",
    "                                (df['oldpeak'] > 4)))\n",
    "print(\"Outlier indexes: \", outlier_indexes)\n",
    "\n",
    "df_without_outlier.drop(index = outlier_indexes[0], inplace = True)\n",
    "print(df_without_outlier)\n",
    "\n",
    "df_without_outlier.reset_index(drop = True, inplace = True)"
   ]
  },
  {
   "cell_type": "code",
   "execution_count": 22,
   "id": "f03b1546",
   "metadata": {},
   "outputs": [],
   "source": [
    "x = df_without_outlier.drop(['output'], axis = 1).values\n",
    "y = df_without_outlier['output'].values"
   ]
  },
  {
   "cell_type": "markdown",
   "id": "aed44406",
   "metadata": {},
   "source": [
    "### Splitting Data to Train and Test Sets"
   ]
  },
  {
   "cell_type": "code",
   "execution_count": 23,
   "id": "9556a7e6",
   "metadata": {},
   "outputs": [],
   "source": [
    "from sklearn.model_selection import train_test_split\n",
    "x_train, x_test, y_train, y_test = train_test_split(x,y, test_size = 0.2, random_state = 0)"
   ]
  },
  {
   "cell_type": "markdown",
   "id": "6e4ba640",
   "metadata": {},
   "source": [
    "### Scaling Data"
   ]
  },
  {
   "cell_type": "code",
   "execution_count": 24,
   "id": "fa581e96",
   "metadata": {},
   "outputs": [],
   "source": [
    "from sklearn.preprocessing import MinMaxScaler, StandardScaler\n",
    "scaler = MinMaxScaler()\n",
    "x_train_scaled = scaler.fit_transform(x_train)\n",
    "x_test_scaled = scaler.transform(x_test)"
   ]
  },
  {
   "cell_type": "code",
   "execution_count": 25,
   "id": "9993e182",
   "metadata": {},
   "outputs": [],
   "source": [
    "from sklearn.model_selection import GridSearchCV\n",
    "\n",
    "def fit_with_best(model, parameters):\n",
    "    \n",
    "    gs = GridSearchCV(estimator = model,\n",
    "                         param_grid = parameters,\n",
    "                         scoring = 'accuracy',\n",
    "                         cv = 10,\n",
    "                         n_jobs = -1, refit = True)\n",
    "\n",
    "    gs.fit(x_train, y_train.ravel())\n",
    "\n",
    "    best_result = gs.best_score_\n",
    "    best_parameters = gs.best_params_\n",
    "\n",
    "    print(\"En iyi parametreler: \", best_parameters)    \n",
    "    print(\"En iyi Sonuç: \", best_result, '\\n')"
   ]
  },
  {
   "cell_type": "code",
   "execution_count": 26,
   "id": "df48652c",
   "metadata": {},
   "outputs": [],
   "source": [
    "from sklearn.model_selection import cross_val_score\n",
    "\n",
    "def cross_validation_score(estimator):\n",
    "\n",
    "    # cv: k parameter\n",
    "    cvs = cross_val_score(estimator = estimator, X = x_train, y = y_train, cv = 10)\n",
    "    print(\"Cross Validation Max Score: \", cvs.max())\n",
    "    print(\"Cross Validation Min Score: \", cvs.min())\n",
    "    print(\"Cross Validation Mean Score: \", cvs.mean())"
   ]
  },
  {
   "cell_type": "code",
   "execution_count": 27,
   "id": "920cc392",
   "metadata": {},
   "outputs": [],
   "source": [
    "from sklearn.metrics import roc_curve, roc_auc_score\n",
    "\n",
    "def roc_auc(model, algorithm):\n",
    "    probs = model.predict_proba(x_test_scaled)\n",
    "    probs = probs[:, 1]\n",
    "\n",
    "    model_fpr, model_tpr, thresholds = roc_curve(y_test, probs)\n",
    "    model_auc = roc_auc_score(y_test, probs)\n",
    "\n",
    "    plt.title('ROC Curve')\n",
    "    plt.plot([0, 1], [0, 1], linestyle='--')\n",
    "    plt.plot(model_fpr, model_tpr, 'b', marker='.', label = algorithm + ' = %0.3f' % model_auc )\n",
    "\n",
    "    plt.legend(loc = 'lower right')\n",
    "    plt.ylabel('True Positive Rate')\n",
    "    plt.xlabel('False Positive Rate')\n",
    "    plt.show()"
   ]
  },
  {
   "cell_type": "code",
   "execution_count": 28,
   "id": "3be2fc83",
   "metadata": {},
   "outputs": [],
   "source": [
    "from sklearn.metrics import confusion_matrix, accuracy_score, classification_report\n",
    "\n",
    "def some_metrics(y_pred, algorithms):\n",
    "    cm = confusion_matrix(y_test, y_pred)\n",
    "    sns.heatmap(cm, cmap = 'Blues', annot = True)\n",
    "\n",
    "    clf = classification_report(y_test, y_pred)\n",
    "    print(clf)\n",
    "\n",
    "    score = accuracy_score(y_test, y_pred)\n",
    "    print('Accuracy: ', score)\n",
    "    plt.title(algorithms)\n",
    "    plt.show()"
   ]
  },
  {
   "cell_type": "markdown",
   "id": "2f8677d1",
   "metadata": {},
   "source": [
    "# Models"
   ]
  },
  {
   "cell_type": "markdown",
   "id": "45bd8f34",
   "metadata": {},
   "source": [
    "## Logistic Regression"
   ]
  },
  {
   "cell_type": "code",
   "execution_count": 29,
   "id": "43ca7437",
   "metadata": {},
   "outputs": [
    {
     "data": {
      "text/plain": [
       "LogisticRegression(random_state=0)"
      ]
     },
     "execution_count": 29,
     "metadata": {},
     "output_type": "execute_result"
    }
   ],
   "source": [
    "from sklearn.linear_model import LogisticRegression\n",
    "\n",
    "lr_params = [{'penalty': ['l1', 'l2', 'elasticnet', 'none'], \n",
    "               'fit_intercept': ['True', 'False'], \n",
    "               'solver': ['newton-cg', 'lbfgs', 'liblinear', 'sag', 'saga'],\n",
    "               'C': [0.1, 1, 10],}]\n",
    "\n",
    "lr = LogisticRegression(random_state = 0)\n",
    "\n",
    "lr.fit(x_train_scaled, y_train)"
   ]
  },
  {
   "cell_type": "code",
   "execution_count": 30,
   "id": "a7283fff",
   "metadata": {},
   "outputs": [
    {
     "data": {
      "text/plain": [
       "array([1, 0, 1, 0, 0, 1, 1, 0, 1, 1, 1, 1, 1, 1, 1, 1, 0, 0, 0, 1, 0, 0,\n",
       "       1, 0, 1, 1, 1, 0, 1, 1, 1, 1, 1, 0, 1, 0, 1, 1, 1, 1, 1, 1, 0, 0,\n",
       "       1, 1, 1, 0, 1, 1, 1, 1, 1, 0, 1, 1, 1, 0], dtype=int64)"
      ]
     },
     "execution_count": 30,
     "metadata": {},
     "output_type": "execute_result"
    }
   ],
   "source": [
    "y_pred = lr.predict(x_test_scaled)\n",
    "y_pred"
   ]
  },
  {
   "cell_type": "code",
   "execution_count": 31,
   "id": "cadacc6e",
   "metadata": {},
   "outputs": [
    {
     "name": "stdout",
     "output_type": "stream",
     "text": [
      "              precision    recall  f1-score   support\n",
      "\n",
      "           0       0.89      0.59      0.71        27\n",
      "           1       0.72      0.94      0.82        31\n",
      "\n",
      "    accuracy                           0.78        58\n",
      "   macro avg       0.81      0.76      0.76        58\n",
      "weighted avg       0.80      0.78      0.77        58\n",
      "\n",
      "Accuracy:  0.7758620689655172\n"
     ]
    },
    {
     "data": {
      "image/png": "[encoded data removed]",
      "text/plain": [
       "<Figure size 432x288 with 2 Axes>"
      ]
     },
     "metadata": {
      "needs_background": "light"
     },
     "output_type": "display_data"
    }
   ],
   "source": [
    "some_metrics(y_pred, 'Logistic Regression')"
   ]
  },
  {
   "cell_type": "code",
   "execution_count": 32,
   "id": "ecb916d8",
   "metadata": {},
   "outputs": [
    {
     "name": "stdout",
     "output_type": "stream",
     "text": [
      "En iyi parametreler:  {'C': 1, 'fit_intercept': 'True', 'penalty': 'l2', 'solver': 'liblinear'}\n",
      "En iyi Sonuç:  0.8511857707509881 \n",
      "\n"
     ]
    }
   ],
   "source": [
    "fit_with_best(lr, lr_params)"
   ]
  },
  {
   "cell_type": "code",
   "execution_count": 33,
   "id": "5fab9ab2",
   "metadata": {},
   "outputs": [
    {
     "name": "stdout",
     "output_type": "stream",
     "text": [
      "Cross Validation Max Score:  0.9130434782608695\n",
      "Cross Validation Min Score:  0.782608695652174\n",
      "Cross Validation Mean Score:  0.8468379446640315\n"
     ]
    }
   ],
   "source": [
    "cross_validation_score(lr)"
   ]
  },
  {
   "cell_type": "code",
   "execution_count": 34,
   "id": "e815d977",
   "metadata": {},
   "outputs": [
    {
     "data": {
      "image/png": "[encoded data removed]",
      "text/plain": [
       "<Figure size 432x288 with 1 Axes>"
      ]
     },
     "metadata": {
      "needs_background": "light"
     },
     "output_type": "display_data"
    }
   ],
   "source": [
    "roc_auc(lr, 'Logistic Regression')"
   ]
  },
  {
   "cell_type": "markdown",
   "id": "2bbf9e80",
   "metadata": {},
   "source": [
    "## K-NN Classification"
   ]
  },
  {
   "cell_type": "code",
   "execution_count": 35,
   "id": "1d8293e6",
   "metadata": {},
   "outputs": [
    {
     "data": {
      "text/plain": [
       "KNeighborsClassifier(n_neighbors=3)"
      ]
     },
     "execution_count": 35,
     "metadata": {},
     "output_type": "execute_result"
    }
   ],
   "source": [
    "from sklearn.neighbors import KNeighborsClassifier\n",
    "\n",
    "knn_params = [{'n_neighbors': [i for i in range(50)], \n",
    "               'weights': ['uniform', 'distance'], \n",
    "               'algorithm': ['auto', 'ball_tree', 'kd_tree', 'brute'], \n",
    "               'metric': ['euclidean', 'manhattan', 'chebyshev', 'minkowski', 'wminkowski', 'seuclidean', 'mahalanobis']}]\n",
    "\n",
    "knn = KNeighborsClassifier(n_neighbors = 3)\n",
    "\n",
    "knn.fit(x_train_scaled, y_train)"
   ]
  },
  {
   "cell_type": "code",
   "execution_count": 36,
   "id": "50726ac5",
   "metadata": {},
   "outputs": [
    {
     "data": {
      "text/plain": [
       "array([1, 0, 1, 0, 0, 1, 1, 0, 1, 1, 1, 0, 1, 1, 1, 1, 0, 0, 0, 1, 0, 0,\n",
       "       1, 0, 1, 1, 0, 0, 1, 1, 1, 1, 1, 0, 1, 0, 1, 1, 1, 1, 1, 1, 0, 1,\n",
       "       1, 1, 1, 0, 1, 1, 1, 0, 1, 0, 1, 1, 1, 0], dtype=int64)"
      ]
     },
     "execution_count": 36,
     "metadata": {},
     "output_type": "execute_result"
    }
   ],
   "source": [
    "y_pred = knn.predict(x_test_scaled)\n",
    "y_pred"
   ]
  },
  {
   "cell_type": "code",
   "execution_count": 37,
   "id": "e6a3f6cf",
   "metadata": {},
   "outputs": [
    {
     "name": "stdout",
     "output_type": "stream",
     "text": [
      "              precision    recall  f1-score   support\n",
      "\n",
      "           0       0.90      0.67      0.77        27\n",
      "           1       0.76      0.94      0.84        31\n",
      "\n",
      "    accuracy                           0.81        58\n",
      "   macro avg       0.83      0.80      0.80        58\n",
      "weighted avg       0.83      0.81      0.81        58\n",
      "\n",
      "Accuracy:  0.8103448275862069\n"
     ]
    },
    {
     "data": {
      "image/png": "[encoded data removed]",
      "text/plain": [
       "<Figure size 432x288 with 2 Axes>"
      ]
     },
     "metadata": {
      "needs_background": "light"
     },
     "output_type": "display_data"
    }
   ],
   "source": [
    "some_metrics(y_pred, 'K-NN Classifier')"
   ]
  },
  {
   "cell_type": "code",
   "execution_count": 38,
   "id": "b7b597f6",
   "metadata": {},
   "outputs": [
    {
     "name": "stdout",
     "output_type": "stream",
     "text": [
      "En iyi parametreler:  {'algorithm': 'brute', 'metric': 'seuclidean', 'n_neighbors': 10, 'weights': 'uniform'}\n",
      "En iyi Sonuç:  0.8468379446640315 \n",
      "\n"
     ]
    }
   ],
   "source": [
    "fit_with_best(knn, knn_params)"
   ]
  },
  {
   "cell_type": "code",
   "execution_count": 39,
   "id": "4e4a94f2",
   "metadata": {},
   "outputs": [
    {
     "data": {
      "image/png": "[encoded data removed]",
      "text/plain": [
       "<Figure size 432x288 with 1 Axes>"
      ]
     },
     "metadata": {
      "needs_background": "light"
     },
     "output_type": "display_data"
    }
   ],
   "source": [
    "roc_auc(knn, 'K-NN Classifier')"
   ]
  },
  {
   "cell_type": "markdown",
   "id": "c81caeea",
   "metadata": {},
   "source": [
    "## SVM Classifier"
   ]
  },
  {
   "cell_type": "code",
   "execution_count": 40,
   "id": "3486d57f",
   "metadata": {},
   "outputs": [
    {
     "data": {
      "text/plain": [
       "SVC(probability=True)"
      ]
     },
     "execution_count": 40,
     "metadata": {},
     "output_type": "execute_result"
    }
   ],
   "source": [
    "from sklearn.svm import SVC\n",
    "\n",
    "svm = SVC(kernel = 'rbf', probability = True)\n",
    "svm.fit(x_train_scaled, y_train)"
   ]
  },
  {
   "cell_type": "code",
   "execution_count": 41,
   "id": "5916e0a6",
   "metadata": {},
   "outputs": [
    {
     "data": {
      "text/plain": [
       "array([1, 0, 1, 0, 0, 1, 1, 0, 1, 1, 1, 0, 1, 1, 1, 1, 0, 0, 0, 1, 0, 0,\n",
       "       1, 0, 1, 1, 1, 0, 1, 1, 1, 1, 1, 0, 1, 0, 1, 1, 1, 1, 1, 1, 0, 0,\n",
       "       1, 1, 1, 0, 1, 1, 1, 1, 1, 0, 1, 1, 0, 0], dtype=int64)"
      ]
     },
     "execution_count": 41,
     "metadata": {},
     "output_type": "execute_result"
    }
   ],
   "source": [
    "y_pred = svm.predict(x_test_scaled)\n",
    "y_pred"
   ]
  },
  {
   "cell_type": "code",
   "execution_count": 42,
   "id": "bc800391",
   "metadata": {},
   "outputs": [
    {
     "name": "stdout",
     "output_type": "stream",
     "text": [
      "              precision    recall  f1-score   support\n",
      "\n",
      "           0       0.90      0.67      0.77        27\n",
      "           1       0.76      0.94      0.84        31\n",
      "\n",
      "    accuracy                           0.81        58\n",
      "   macro avg       0.83      0.80      0.80        58\n",
      "weighted avg       0.83      0.81      0.81        58\n",
      "\n",
      "Accuracy:  0.8103448275862069\n"
     ]
    },
    {
     "data": {
      "image/png": "[encoded data removed]",
      "text/plain": [
       "<Figure size 432x288 with 2 Axes>"
      ]
     },
     "metadata": {
      "needs_background": "light"
     },
     "output_type": "display_data"
    }
   ],
   "source": [
    "some_metrics(y_pred, 'SVM Classifier')"
   ]
  },
  {
   "cell_type": "code",
   "execution_count": 43,
   "id": "10f7d9c8",
   "metadata": {},
   "outputs": [
    {
     "data": {
      "image/png": "[encoded data removed]",
      "text/plain": [
       "<Figure size 432x288 with 1 Axes>"
      ]
     },
     "metadata": {
      "needs_background": "light"
     },
     "output_type": "display_data"
    }
   ],
   "source": [
    "roc_auc(svm, 'SVM Classifier')"
   ]
  },
  {
   "cell_type": "markdown",
   "id": "6ebfd49f",
   "metadata": {},
   "source": [
    "## Naive Bayes"
   ]
  },
  {
   "cell_type": "code",
   "execution_count": 44,
   "id": "fc0fb0db",
   "metadata": {},
   "outputs": [
    {
     "data": {
      "text/plain": [
       "GaussianNB()"
      ]
     },
     "execution_count": 44,
     "metadata": {},
     "output_type": "execute_result"
    }
   ],
   "source": [
    "from sklearn.naive_bayes import GaussianNB\n",
    "\n",
    "gnb = GaussianNB()\n",
    "gnb.fit(x_train_scaled, y_train)"
   ]
  },
  {
   "cell_type": "code",
   "execution_count": 45,
   "id": "fd271326",
   "metadata": {},
   "outputs": [
    {
     "data": {
      "text/plain": [
       "array([1, 0, 1, 0, 0, 1, 1, 0, 1, 1, 1, 0, 1, 1, 1, 0, 0, 0, 0, 1, 0, 0,\n",
       "       1, 0, 1, 1, 1, 0, 1, 1, 1, 1, 1, 0, 0, 0, 0, 1, 1, 1, 1, 0, 0, 1,\n",
       "       1, 1, 1, 0, 1, 1, 1, 1, 1, 0, 1, 1, 0, 1], dtype=int64)"
      ]
     },
     "execution_count": 45,
     "metadata": {},
     "output_type": "execute_result"
    }
   ],
   "source": [
    "y_pred = gnb.predict(x_test_scaled)\n",
    "y_pred"
   ]
  },
  {
   "cell_type": "code",
   "execution_count": 46,
   "id": "7a7b357a",
   "metadata": {},
   "outputs": [
    {
     "name": "stdout",
     "output_type": "stream",
     "text": [
      "              precision    recall  f1-score   support\n",
      "\n",
      "           0       0.82      0.67      0.73        27\n",
      "           1       0.75      0.87      0.81        31\n",
      "\n",
      "    accuracy                           0.78        58\n",
      "   macro avg       0.78      0.77      0.77        58\n",
      "weighted avg       0.78      0.78      0.77        58\n",
      "\n",
      "Accuracy:  0.7758620689655172\n"
     ]
    },
    {
     "data": {
      "image/png": "[encoded data removed]",
      "text/plain": [
       "<Figure size 432x288 with 2 Axes>"
      ]
     },
     "metadata": {
      "needs_background": "light"
     },
     "output_type": "display_data"
    }
   ],
   "source": [
    "some_metrics(y_pred, 'Naive Bayes Classifier')"
   ]
  },
  {
   "cell_type": "code",
   "execution_count": 47,
   "id": "369315f6",
   "metadata": {},
   "outputs": [
    {
     "data": {
      "image/png": "[encoded data removed]",
      "text/plain": [
       "<Figure size 432x288 with 1 Axes>"
      ]
     },
     "metadata": {
      "needs_background": "light"
     },
     "output_type": "display_data"
    }
   ],
   "source": [
    "roc_auc(gnb, 'Naive Bayes Classifier')"
   ]
  },
  {
   "cell_type": "code",
   "execution_count": 48,
   "id": "6ffc0782",
   "metadata": {},
   "outputs": [
    {
     "name": "stdout",
     "output_type": "stream",
     "text": [
      "Cross Validation Max Score:  0.9130434782608695\n",
      "Cross Validation Min Score:  0.6956521739130435\n",
      "Cross Validation Mean Score:  0.8337944664031621\n"
     ]
    }
   ],
   "source": [
    "cross_validation_score(gnb)"
   ]
  },
  {
   "cell_type": "markdown",
   "id": "810f52c0",
   "metadata": {},
   "source": [
    "## Decision Tree"
   ]
  },
  {
   "cell_type": "code",
   "execution_count": 49,
   "id": "4410c5e7",
   "metadata": {},
   "outputs": [
    {
     "data": {
      "text/plain": [
       "DecisionTreeClassifier()"
      ]
     },
     "execution_count": 49,
     "metadata": {},
     "output_type": "execute_result"
    }
   ],
   "source": [
    "from sklearn.tree import DecisionTreeClassifier\n",
    "\n",
    "dtc = DecisionTreeClassifier(criterion = 'gini')\n",
    "\n",
    "dtc.fit(x_train_scaled, y_train)"
   ]
  },
  {
   "cell_type": "code",
   "execution_count": 50,
   "id": "3ff61cdb",
   "metadata": {},
   "outputs": [
    {
     "data": {
      "text/plain": [
       "array([1, 0, 1, 0, 0, 1, 1, 1, 1, 1, 0, 0, 1, 0, 1, 0, 0, 0, 0, 1, 0, 1,\n",
       "       1, 0, 1, 1, 1, 0, 1, 1, 1, 1, 1, 0, 1, 1, 1, 1, 1, 1, 1, 1, 0, 0,\n",
       "       1, 1, 1, 0, 1, 1, 1, 1, 1, 0, 1, 1, 1, 0], dtype=int64)"
      ]
     },
     "execution_count": 50,
     "metadata": {},
     "output_type": "execute_result"
    }
   ],
   "source": [
    "y_pred = dtc.predict(x_test_scaled)\n",
    "y_pred"
   ]
  },
  {
   "cell_type": "code",
   "execution_count": 51,
   "id": "40c1d41d",
   "metadata": {},
   "outputs": [
    {
     "name": "stdout",
     "output_type": "stream",
     "text": [
      "              precision    recall  f1-score   support\n",
      "\n",
      "           0       0.84      0.59      0.70        27\n",
      "           1       0.72      0.90      0.80        31\n",
      "\n",
      "    accuracy                           0.76        58\n",
      "   macro avg       0.78      0.75      0.75        58\n",
      "weighted avg       0.78      0.76      0.75        58\n",
      "\n",
      "Accuracy:  0.7586206896551724\n"
     ]
    },
    {
     "data": {
      "image/png": "[encoded data removed]",
      "text/plain": [
       "<Figure size 432x288 with 2 Axes>"
      ]
     },
     "metadata": {
      "needs_background": "light"
     },
     "output_type": "display_data"
    }
   ],
   "source": [
    "some_metrics(y_pred, 'Decision Tree Classifier')"
   ]
  },
  {
   "cell_type": "code",
   "execution_count": 52,
   "id": "9b2fd80d",
   "metadata": {},
   "outputs": [
    {
     "data": {
      "image/png": "[encoded data removed]",
      "text/plain": [
       "<Figure size 432x288 with 1 Axes>"
      ]
     },
     "metadata": {
      "needs_background": "light"
     },
     "output_type": "display_data"
    }
   ],
   "source": [
    "roc_auc(dtc, 'Decision Tree')"
   ]
  },
  {
   "cell_type": "code",
   "execution_count": 53,
   "id": "70cb7fc4",
   "metadata": {},
   "outputs": [
    {
     "name": "stdout",
     "output_type": "stream",
     "text": [
      "En iyi parametreler:  {'criterion': 'entropy', 'max_features': 'sqrt', 'splitter': 'random'}\n",
      "En iyi Sonuç:  0.7804347826086957 \n",
      "\n"
     ]
    }
   ],
   "source": [
    "dtc_params = [{'criterion': ['gini', 'entropy'], \n",
    "               'splitter': ['best', 'random'], \n",
    "               'max_features': ['auto', 'sqrt', 'log2']}]\n",
    "\n",
    "fit_with_best(dtc, dtc_params)"
   ]
  },
  {
   "cell_type": "code",
   "execution_count": 54,
   "id": "729b98e3",
   "metadata": {},
   "outputs": [
    {
     "name": "stdout",
     "output_type": "stream",
     "text": [
      "Cross Validation Max Score:  0.9130434782608695\n",
      "Cross Validation Min Score:  0.5652173913043478\n",
      "Cross Validation Mean Score:  0.7683794466403161\n"
     ]
    }
   ],
   "source": [
    "cross_validation_score(dtc)"
   ]
  },
  {
   "cell_type": "markdown",
   "id": "0cf21716",
   "metadata": {},
   "source": [
    "## Random Forest"
   ]
  },
  {
   "cell_type": "code",
   "execution_count": 55,
   "id": "d3055c00",
   "metadata": {},
   "outputs": [
    {
     "data": {
      "text/plain": [
       "RandomForestClassifier(n_estimators=30)"
      ]
     },
     "execution_count": 55,
     "metadata": {},
     "output_type": "execute_result"
    }
   ],
   "source": [
    "from sklearn.ensemble import RandomForestClassifier\n",
    "\n",
    "rfc = RandomForestClassifier(n_estimators = 30, criterion = 'gini')\n",
    "\n",
    "rfc.fit(x_train_scaled, y_train)"
   ]
  },
  {
   "cell_type": "code",
   "execution_count": 56,
   "id": "a7d5ce36",
   "metadata": {},
   "outputs": [
    {
     "data": {
      "text/plain": [
       "array([1, 0, 1, 0, 0, 1, 1, 0, 1, 1, 1, 0, 1, 1, 1, 1, 0, 0, 0, 1, 0, 1,\n",
       "       1, 0, 1, 1, 1, 0, 1, 1, 1, 1, 1, 0, 1, 0, 1, 1, 1, 1, 1, 1, 0, 0,\n",
       "       1, 1, 1, 0, 1, 1, 1, 1, 1, 0, 1, 1, 1, 0], dtype=int64)"
      ]
     },
     "execution_count": 56,
     "metadata": {},
     "output_type": "execute_result"
    }
   ],
   "source": [
    "y_pred = rfc.predict(x_test_scaled)\n",
    "y_pred"
   ]
  },
  {
   "cell_type": "code",
   "execution_count": 57,
   "id": "3b609dfc",
   "metadata": {},
   "outputs": [
    {
     "name": "stdout",
     "output_type": "stream",
     "text": [
      "              precision    recall  f1-score   support\n",
      "\n",
      "           0       0.89      0.59      0.71        27\n",
      "           1       0.72      0.94      0.82        31\n",
      "\n",
      "    accuracy                           0.78        58\n",
      "   macro avg       0.81      0.76      0.76        58\n",
      "weighted avg       0.80      0.78      0.77        58\n",
      "\n",
      "Accuracy:  0.7758620689655172\n"
     ]
    },
    {
     "data": {
      "image/png": "[encoded data removed]",
      "text/plain": [
       "<Figure size 432x288 with 2 Axes>"
      ]
     },
     "metadata": {
      "needs_background": "light"
     },
     "output_type": "display_data"
    }
   ],
   "source": [
    "some_metrics(y_pred, 'Random Forest Classifier')"
   ]
  },
  {
   "cell_type": "code",
   "execution_count": 58,
   "id": "2f9cd13e",
   "metadata": {},
   "outputs": [
    {
     "data": {
      "image/png": "[encoded data removed]",
      "text/plain": [
       "<Figure size 432x288 with 1 Axes>"
      ]
     },
     "metadata": {
      "needs_background": "light"
     },
     "output_type": "display_data"
    }
   ],
   "source": [
    "roc_auc(rfc, 'Random Forest Classifier')"
   ]
  },
  {
   "cell_type": "code",
   "execution_count": 59,
   "id": "b8149770",
   "metadata": {},
   "outputs": [
    {
     "name": "stdout",
     "output_type": "stream",
     "text": [
      "En iyi parametreler:  {'class_weight': 'balanced', 'criterion': 'gini', 'max_features': 'auto', 'n_estimators': 29}\n",
      "En iyi Sonuç:  0.8648221343873519 \n",
      "\n"
     ]
    }
   ],
   "source": [
    "rfc_params = [{'n_estimators': [i for i in range(35)], \n",
    "               'criterion': ['gini', 'entropy'], \n",
    "               'max_features': ['auto', 'sqrt', 'log2'], \n",
    "               'class_weight': ['balanced', 'balanced_subsample']}]\n",
    "\n",
    "fit_with_best(rfc, rfc_params)"
   ]
  },
  {
   "cell_type": "code",
   "execution_count": 60,
   "id": "c0085806",
   "metadata": {},
   "outputs": [
    {
     "name": "stdout",
     "output_type": "stream",
     "text": [
      "Cross Validation Max Score:  0.9545454545454546\n",
      "Cross Validation Min Score:  0.6521739130434783\n",
      "Cross Validation Mean Score:  0.8167984189723321\n"
     ]
    }
   ],
   "source": [
    "cross_validation_score(rfc)"
   ]
  },
  {
   "cell_type": "markdown",
   "id": "2c17b8c5",
   "metadata": {},
   "source": [
    "## Neural Network"
   ]
  },
  {
   "cell_type": "code",
   "execution_count": 62,
   "id": "9c51cdb9",
   "metadata": {},
   "outputs": [
    {
     "name": "stdout",
     "output_type": "stream",
     "text": [
      "Iteration 1, loss = 0.74702995\n",
      "Iteration 2, loss = 0.72754258\n",
      "Iteration 3, loss = 0.71170708\n",
      "Iteration 4, loss = 0.69908875\n",
      "Iteration 5, loss = 0.68736674\n",
      "Iteration 6, loss = 0.67691254\n",
      "Iteration 7, loss = 0.66801222\n",
      "Iteration 8, loss = 0.65913018\n",
      "Iteration 9, loss = 0.65142246\n",
      "Iteration 10, loss = 0.64436297\n",
      "Iteration 11, loss = 0.63696535\n",
      "Iteration 12, loss = 0.63052066\n",
      "Iteration 13, loss = 0.62389039\n",
      "Iteration 14, loss = 0.61734115\n",
      "Iteration 15, loss = 0.61097063\n",
      "Iteration 16, loss = 0.60452533\n",
      "Iteration 17, loss = 0.59763901\n",
      "Iteration 18, loss = 0.59082926\n",
      "Iteration 19, loss = 0.58413943\n",
      "Iteration 20, loss = 0.57742675\n",
      "Iteration 21, loss = 0.57109606\n",
      "Iteration 22, loss = 0.56480414\n",
      "Iteration 23, loss = 0.55842399\n",
      "Iteration 24, loss = 0.55232874\n",
      "Iteration 25, loss = 0.54647725\n",
      "Iteration 26, loss = 0.54065096\n",
      "Iteration 27, loss = 0.53472750\n",
      "Iteration 28, loss = 0.52902407\n",
      "Iteration 29, loss = 0.52364840\n",
      "Iteration 30, loss = 0.51816158\n",
      "Iteration 31, loss = 0.51282120\n",
      "Iteration 32, loss = 0.50759085\n",
      "Iteration 33, loss = 0.50257545\n",
      "Iteration 34, loss = 0.49762075\n",
      "Iteration 35, loss = 0.49256189\n",
      "Iteration 36, loss = 0.48760491\n",
      "Iteration 37, loss = 0.48307091\n",
      "Iteration 38, loss = 0.47863670\n",
      "Iteration 39, loss = 0.47450161\n",
      "Iteration 40, loss = 0.46998199\n",
      "Iteration 41, loss = 0.46520753\n",
      "Iteration 42, loss = 0.46064218\n",
      "Iteration 43, loss = 0.45592974\n",
      "Iteration 44, loss = 0.45163288\n",
      "Iteration 45, loss = 0.44752347\n",
      "Iteration 46, loss = 0.44378430\n",
      "Iteration 47, loss = 0.44018769\n",
      "Iteration 48, loss = 0.43661641\n",
      "Iteration 49, loss = 0.43344767\n",
      "Iteration 50, loss = 0.43078314\n",
      "Iteration 51, loss = 0.42768433\n",
      "Iteration 52, loss = 0.42438118\n",
      "Iteration 53, loss = 0.42140815\n",
      "Iteration 54, loss = 0.41820094\n",
      "Iteration 55, loss = 0.41520265\n",
      "Iteration 56, loss = 0.41219791\n",
      "Iteration 57, loss = 0.40953083\n",
      "Iteration 58, loss = 0.40718503\n",
      "Iteration 59, loss = 0.40480734\n",
      "Iteration 60, loss = 0.40244624\n",
      "Iteration 61, loss = 0.40019616\n",
      "Iteration 62, loss = 0.39808474\n",
      "Iteration 63, loss = 0.39567923\n",
      "Iteration 64, loss = 0.39385746\n",
      "Iteration 65, loss = 0.39221019\n",
      "Iteration 66, loss = 0.39066976\n",
      "Iteration 67, loss = 0.38908972\n",
      "Iteration 68, loss = 0.38741447\n",
      "Iteration 69, loss = 0.38580717\n",
      "Iteration 70, loss = 0.38448739\n",
      "Iteration 71, loss = 0.38304291\n",
      "Iteration 72, loss = 0.38170248\n",
      "Iteration 73, loss = 0.38033551\n",
      "Iteration 74, loss = 0.37879231\n",
      "Iteration 75, loss = 0.37727921\n",
      "Iteration 76, loss = 0.37571833\n",
      "Iteration 77, loss = 0.37439095\n",
      "Iteration 78, loss = 0.37380023\n",
      "Iteration 79, loss = 0.37448907\n",
      "Iteration 80, loss = 0.37448217\n",
      "Iteration 81, loss = 0.37378950\n",
      "Iteration 82, loss = 0.37229302\n",
      "Iteration 83, loss = 0.37036053\n",
      "Iteration 84, loss = 0.36820919\n",
      "Iteration 85, loss = 0.36696800\n",
      "Iteration 86, loss = 0.36561153\n",
      "Iteration 87, loss = 0.36451562\n",
      "Iteration 88, loss = 0.36366886\n",
      "Iteration 89, loss = 0.36275830\n",
      "Iteration 90, loss = 0.36187260\n",
      "Iteration 91, loss = 0.36127447\n",
      "Iteration 92, loss = 0.36070996\n",
      "Iteration 93, loss = 0.35970614\n",
      "Iteration 94, loss = 0.35910501\n",
      "Iteration 95, loss = 0.35793714\n",
      "Iteration 96, loss = 0.35730687\n",
      "Iteration 97, loss = 0.35670739\n",
      "Iteration 98, loss = 0.35615385\n",
      "Iteration 99, loss = 0.35553429\n",
      "Iteration 100, loss = 0.35485595\n",
      "Iteration 101, loss = 0.35451972\n",
      "Iteration 102, loss = 0.35371000\n",
      "Iteration 103, loss = 0.35324278\n",
      "Iteration 104, loss = 0.35285890\n",
      "Iteration 105, loss = 0.35255458\n",
      "Iteration 106, loss = 0.35281462\n",
      "Iteration 107, loss = 0.35305442\n",
      "Iteration 108, loss = 0.35224375\n",
      "Iteration 109, loss = 0.35097581\n",
      "Iteration 110, loss = 0.34948101\n",
      "Iteration 111, loss = 0.34958853\n",
      "Iteration 112, loss = 0.35031302\n",
      "Iteration 113, loss = 0.35016078\n",
      "Iteration 114, loss = 0.34969610\n",
      "Iteration 115, loss = 0.34859224\n",
      "Iteration 116, loss = 0.34757795\n",
      "Iteration 117, loss = 0.34746856\n",
      "Iteration 118, loss = 0.34681500\n",
      "Iteration 119, loss = 0.34641629\n",
      "Iteration 120, loss = 0.34602885\n",
      "Iteration 121, loss = 0.34579857\n",
      "Iteration 122, loss = 0.34531176\n",
      "Iteration 123, loss = 0.34513585\n",
      "Iteration 124, loss = 0.34499342\n",
      "Iteration 125, loss = 0.34476035\n",
      "Iteration 126, loss = 0.34410319\n",
      "Iteration 127, loss = 0.34396505\n",
      "Iteration 128, loss = 0.34450961\n",
      "Iteration 129, loss = 0.34497367\n",
      "Iteration 130, loss = 0.34536264\n",
      "Iteration 131, loss = 0.34488532\n",
      "Iteration 132, loss = 0.34344309\n",
      "Iteration 133, loss = 0.34249323\n",
      "Iteration 134, loss = 0.34145668\n",
      "Iteration 135, loss = 0.34086308\n",
      "Iteration 136, loss = 0.34110049\n",
      "Iteration 137, loss = 0.34105910\n",
      "Iteration 138, loss = 0.34110309\n",
      "Iteration 139, loss = 0.34135758\n",
      "Iteration 140, loss = 0.34151146\n",
      "Iteration 141, loss = 0.34131235\n",
      "Iteration 142, loss = 0.34077986\n",
      "Iteration 143, loss = 0.34004943\n",
      "Iteration 144, loss = 0.33895318\n",
      "Iteration 145, loss = 0.33868513\n",
      "Iteration 146, loss = 0.33815826\n",
      "Iteration 147, loss = 0.33816624\n",
      "Iteration 148, loss = 0.33821213\n",
      "Iteration 149, loss = 0.33829112\n",
      "Iteration 150, loss = 0.33826121\n",
      "Iteration 151, loss = 0.33742401\n",
      "Iteration 152, loss = 0.33673288\n",
      "Iteration 153, loss = 0.33617048\n",
      "Iteration 154, loss = 0.33623999\n",
      "Iteration 155, loss = 0.33596244\n",
      "Iteration 156, loss = 0.33581934\n",
      "Iteration 157, loss = 0.33539110\n",
      "Iteration 158, loss = 0.33519074\n",
      "Iteration 159, loss = 0.33479525\n",
      "Iteration 160, loss = 0.33467898\n",
      "Iteration 161, loss = 0.33451372\n",
      "Iteration 162, loss = 0.33424483\n",
      "Iteration 163, loss = 0.33405047\n",
      "Iteration 164, loss = 0.33384354\n",
      "Iteration 165, loss = 0.33364639\n",
      "Iteration 166, loss = 0.33346427\n",
      "Iteration 167, loss = 0.33330006\n",
      "Iteration 168, loss = 0.33305208\n",
      "Iteration 169, loss = 0.33281720\n",
      "Iteration 170, loss = 0.33258969\n",
      "Iteration 171, loss = 0.33262993\n",
      "Iteration 172, loss = 0.33272071\n",
      "Iteration 173, loss = 0.33222800\n",
      "Iteration 174, loss = 0.33160853\n",
      "Iteration 175, loss = 0.33086530\n",
      "Iteration 176, loss = 0.33232276\n",
      "Iteration 177, loss = 0.33394282\n",
      "Iteration 178, loss = 0.33556602\n",
      "Iteration 179, loss = 0.33674803\n",
      "Iteration 180, loss = 0.33737710\n",
      "Iteration 181, loss = 0.33602541\n",
      "Iteration 182, loss = 0.33315070\n",
      "Iteration 183, loss = 0.33097264\n",
      "Iteration 184, loss = 0.32978892\n",
      "Iteration 185, loss = 0.33014332\n",
      "Iteration 186, loss = 0.33055402\n",
      "Iteration 187, loss = 0.33098333\n",
      "Iteration 188, loss = 0.33075537\n",
      "Iteration 189, loss = 0.33015186\n",
      "Iteration 190, loss = 0.32919787\n",
      "Iteration 191, loss = 0.32873847\n",
      "Iteration 192, loss = 0.32842385\n",
      "Iteration 193, loss = 0.32848473\n",
      "Iteration 194, loss = 0.32860035\n",
      "Iteration 195, loss = 0.32862368\n",
      "Iteration 196, loss = 0.32829966\n",
      "Iteration 197, loss = 0.32767628\n",
      "Iteration 198, loss = 0.32750798\n",
      "Iteration 199, loss = 0.32708502\n",
      "Iteration 200, loss = 0.32684759\n"
     ]
    },
    {
     "data": {
      "text/plain": [
       "MLPClassifier(verbose=True)"
      ]
     },
     "execution_count": 62,
     "metadata": {},
     "output_type": "execute_result"
    }
   ],
   "source": [
    "from sklearn import neural_network\n",
    "\n",
    "nn = neural_network.MLPClassifier(activation = 'relu', \n",
    "                                  solver = 'adam', \n",
    "                                  alpha = 0.0001, \n",
    "                                  max_iter = 200, \n",
    "                                  shuffle = True, \n",
    "                                  early_stopping = False, \n",
    "                                  verbose = True, \n",
    "                                  validation_fraction = 0.1)\n",
    "\n",
    "nn.fit(x_train_scaled, y_train)"
   ]
  },
  {
   "cell_type": "code",
   "execution_count": 63,
   "id": "0e14cf0f",
   "metadata": {},
   "outputs": [
    {
     "data": {
      "text/plain": [
       "array([1, 0, 1, 0, 0, 1, 1, 0, 1, 1, 1, 0, 1, 1, 1, 1, 0, 0, 0, 1, 0, 0,\n",
       "       1, 0, 1, 1, 1, 0, 1, 1, 1, 1, 1, 0, 0, 1, 1, 1, 1, 1, 1, 0, 0, 0,\n",
       "       1, 1, 1, 0, 1, 1, 1, 1, 1, 0, 1, 1, 0, 0], dtype=int64)"
      ]
     },
     "execution_count": 63,
     "metadata": {},
     "output_type": "execute_result"
    }
   ],
   "source": [
    "y_pred = nn.predict(x_test_scaled)\n",
    "y_pred"
   ]
  },
  {
   "cell_type": "code",
   "execution_count": 64,
   "id": "04bc40c6",
   "metadata": {},
   "outputs": [
    {
     "name": "stdout",
     "output_type": "stream",
     "text": [
      "              precision    recall  f1-score   support\n",
      "\n",
      "           0       0.81      0.63      0.71        27\n",
      "           1       0.73      0.87      0.79        31\n",
      "\n",
      "    accuracy                           0.76        58\n",
      "   macro avg       0.77      0.75      0.75        58\n",
      "weighted avg       0.77      0.76      0.75        58\n",
      "\n",
      "Accuracy:  0.7586206896551724\n"
     ]
    },
    {
     "data": {
      "image/png": "[encoded data removed]",
      "text/plain": [
       "<Figure size 432x288 with 2 Axes>"
      ]
     },
     "metadata": {
      "needs_background": "light"
     },
     "output_type": "display_data"
    }
   ],
   "source": [
    "some_metrics(y_pred, 'Neural Network Classifier')"
   ]
  },
  {
   "cell_type": "code",
   "execution_count": 65,
   "id": "ca758478",
   "metadata": {},
   "outputs": [
    {
     "data": {
      "image/png": "[encoded data removed]",
      "text/plain": [
       "<Figure size 432x288 with 1 Axes>"
      ]
     },
     "metadata": {
      "needs_background": "light"
     },
     "output_type": "display_data"
    }
   ],
   "source": [
    "roc_auc(nn, 'Neural Network Classifier')"
   ]
  },
  {
   "cell_type": "code",
   "execution_count": 67,
   "id": "04506501",
   "metadata": {},
   "outputs": [
    {
     "name": "stdout",
     "output_type": "stream",
     "text": [
      "En iyi parametreler:  {'activation': 'relu', 'early_stopping': False, 'solver': 'lbfgs'}\n",
      "En iyi Sonuç:  0.8209486166007904 \n",
      "\n"
     ]
    }
   ],
   "source": [
    "nn_params = [{'activation': ['logistic', 'tanh', 'relu'], \n",
    "              'solver': ['lbfgs', 'sgd', 'adam'], \n",
    "              'early_stopping': [False, True]}]\n",
    "\n",
    "fit_with_best(nn, nn_params)"
   ]
  },
  {
   "cell_type": "code",
   "execution_count": 68,
   "id": "2fd71df2",
   "metadata": {},
   "outputs": [
    {
     "name": "stdout",
     "output_type": "stream",
     "text": [
      "Iteration 1, loss = 12.45800752\n",
      "Iteration 2, loss = 6.12829014\n",
      "Iteration 3, loss = 1.14204277\n",
      "Iteration 4, loss = 2.39992282\n",
      "Iteration 5, loss = 3.13499577\n",
      "Iteration 6, loss = 2.41169637\n",
      "Iteration 7, loss = 1.07531733\n",
      "Iteration 8, loss = 1.19670229\n",
      "Iteration 9, loss = 1.85474511\n",
      "Iteration 10, loss = 1.95634797\n",
      "Iteration 11, loss = 1.47407693\n",
      "Iteration 12, loss = 0.93771359\n",
      "Iteration 13, loss = 1.14608813\n",
      "Iteration 14, loss = 1.23002897\n",
      "Iteration 15, loss = 1.00401029\n",
      "Iteration 16, loss = 0.87632835\n",
      "Iteration 17, loss = 0.89316856\n",
      "Iteration 18, loss = 0.99776628\n",
      "Iteration 19, loss = 0.89492448\n",
      "Iteration 20, loss = 0.82313645\n",
      "Iteration 21, loss = 0.97495799\n",
      "Iteration 22, loss = 0.98700746\n",
      "Iteration 23, loss = 0.78126820\n",
      "Iteration 24, loss = 0.77907166\n",
      "Iteration 25, loss = 0.77687165\n",
      "Iteration 26, loss = 0.70260324\n",
      "Iteration 27, loss = 0.69052931\n",
      "Iteration 28, loss = 0.70864362\n",
      "Iteration 29, loss = 0.65605540\n",
      "Iteration 30, loss = 0.64762663\n",
      "Iteration 31, loss = 0.62187209\n",
      "Iteration 32, loss = 0.61504378\n",
      "Iteration 33, loss = 0.72057910\n",
      "Iteration 34, loss = 0.74520008\n",
      "Iteration 35, loss = 0.58577577\n",
      "Iteration 36, loss = 0.61270316\n",
      "Iteration 37, loss = 0.55998288\n",
      "Iteration 38, loss = 0.66493110\n",
      "Iteration 39, loss = 0.72447896\n",
      "Iteration 40, loss = 0.54830478\n",
      "Iteration 41, loss = 0.53016862\n",
      "Iteration 42, loss = 0.53302739\n",
      "Iteration 43, loss = 0.51466133\n",
      "Iteration 44, loss = 0.51005193\n",
      "Iteration 45, loss = 0.49951364\n",
      "Iteration 46, loss = 0.51602438\n",
      "Iteration 47, loss = 0.57363798\n",
      "Iteration 48, loss = 0.48407216\n",
      "Iteration 49, loss = 0.58122332\n",
      "Iteration 50, loss = 0.47770424\n",
      "Iteration 51, loss = 0.81417577\n",
      "Iteration 52, loss = 0.75285676\n",
      "Iteration 53, loss = 0.53880400\n",
      "Iteration 54, loss = 0.62296871\n",
      "Iteration 55, loss = 0.50051587\n",
      "Iteration 56, loss = 0.56347164\n",
      "Iteration 57, loss = 0.47582891\n",
      "Iteration 58, loss = 0.49122955\n",
      "Iteration 59, loss = 0.48311393\n",
      "Iteration 60, loss = 0.53590932\n",
      "Iteration 61, loss = 0.45847658\n",
      "Iteration 62, loss = 0.54544943\n",
      "Iteration 63, loss = 0.52032376\n",
      "Iteration 64, loss = 0.45312797\n",
      "Iteration 65, loss = 0.55729410\n",
      "Iteration 66, loss = 0.48243144\n",
      "Iteration 67, loss = 0.46510852\n",
      "Iteration 68, loss = 0.53337727\n",
      "Iteration 69, loss = 0.46345157\n",
      "Iteration 70, loss = 0.43473002\n",
      "Iteration 71, loss = 0.43412219\n",
      "Iteration 72, loss = 0.43413997\n",
      "Iteration 73, loss = 0.43296271\n",
      "Iteration 74, loss = 0.46521803\n",
      "Iteration 75, loss = 0.55450118\n",
      "Iteration 76, loss = 0.41986499\n",
      "Iteration 77, loss = 0.62512351\n",
      "Iteration 78, loss = 0.67310687\n",
      "Iteration 79, loss = 0.42594339\n",
      "Iteration 80, loss = 0.53134172\n",
      "Iteration 81, loss = 0.45720077\n",
      "Iteration 82, loss = 0.45891786\n",
      "Iteration 83, loss = 0.41911248\n",
      "Iteration 84, loss = 0.56712180\n",
      "Iteration 85, loss = 0.57418490\n",
      "Iteration 86, loss = 0.44257716\n",
      "Iteration 87, loss = 0.53713721\n",
      "Iteration 88, loss = 0.40640545\n",
      "Iteration 89, loss = 0.51753271\n",
      "Iteration 90, loss = 0.41860263\n",
      "Iteration 91, loss = 0.57170225\n",
      "Iteration 92, loss = 0.42862195\n",
      "Iteration 93, loss = 0.41908048\n",
      "Iteration 94, loss = 0.39801735\n",
      "Iteration 95, loss = 0.38782809\n",
      "Iteration 96, loss = 0.48658855\n",
      "Iteration 97, loss = 0.39499742\n",
      "Iteration 98, loss = 0.40116674\n",
      "Iteration 99, loss = 0.39378438\n",
      "Iteration 100, loss = 0.38382088\n",
      "Iteration 101, loss = 0.51073141\n",
      "Iteration 102, loss = 0.42715006\n",
      "Iteration 103, loss = 0.37493647\n",
      "Iteration 104, loss = 0.40022641\n",
      "Iteration 105, loss = 0.37474397\n",
      "Iteration 106, loss = 0.41866902\n",
      "Iteration 107, loss = 0.38136761\n",
      "Iteration 108, loss = 0.52951902\n",
      "Iteration 109, loss = 0.43838692\n",
      "Iteration 110, loss = 0.39999392\n",
      "Iteration 111, loss = 0.48946325\n",
      "Iteration 112, loss = 0.37648015\n",
      "Iteration 113, loss = 0.50943121\n",
      "Iteration 114, loss = 0.47719524\n",
      "Iteration 115, loss = 0.43708325\n",
      "Iteration 116, loss = 0.64963365\n",
      "Training loss did not improve more than tol=0.000100 for 10 consecutive epochs. Stopping.\n",
      "Iteration 1, loss = 3.19465281\n",
      "Iteration 2, loss = 1.15661877\n",
      "Iteration 3, loss = 1.80351636\n",
      "Iteration 4, loss = 1.11033654\n",
      "Iteration 5, loss = 1.16377547\n",
      "Iteration 6, loss = 1.61196319\n",
      "Iteration 7, loss = 1.05373163\n",
      "Iteration 8, loss = 0.89192371\n",
      "Iteration 9, loss = 0.95315731\n",
      "Iteration 10, loss = 0.89061797\n",
      "Iteration 11, loss = 0.84596044\n",
      "Iteration 12, loss = 1.12514401\n",
      "Iteration 13, loss = 1.09353037\n",
      "Iteration 14, loss = 0.83345901\n",
      "Iteration 15, loss = 0.87184759\n",
      "Iteration 16, loss = 0.98282760\n",
      "Iteration 17, loss = 0.95275200\n",
      "Iteration 18, loss = 0.80407877\n",
      "Iteration 19, loss = 0.80896402\n",
      "Iteration 20, loss = 0.81876287\n",
      "Iteration 21, loss = 0.75316165\n",
      "Iteration 22, loss = 0.76851840\n",
      "Iteration 23, loss = 0.74771771\n",
      "Iteration 24, loss = 0.71959615\n",
      "Iteration 25, loss = 0.71244009\n",
      "Iteration 26, loss = 0.70695529\n",
      "Iteration 27, loss = 0.70469903\n",
      "Iteration 28, loss = 0.74886625\n",
      "Iteration 29, loss = 0.70173078\n",
      "Iteration 30, loss = 0.73318376\n",
      "Iteration 31, loss = 0.81131136\n",
      "Iteration 32, loss = 0.68421251\n",
      "Iteration 33, loss = 0.70718404\n",
      "Iteration 34, loss = 0.67304728\n",
      "Iteration 35, loss = 0.65614653\n",
      "Iteration 36, loss = 0.63109418\n",
      "Iteration 37, loss = 0.65859212\n",
      "Iteration 38, loss = 0.78563096\n",
      "Iteration 39, loss = 0.71519887\n",
      "Iteration 40, loss = 0.58513010\n",
      "Iteration 41, loss = 0.58173550\n",
      "Iteration 42, loss = 0.56712139\n",
      "Iteration 43, loss = 0.55947533\n",
      "Iteration 44, loss = 0.59155214\n",
      "Iteration 45, loss = 0.56209207\n",
      "Iteration 46, loss = 0.55169143\n",
      "Iteration 47, loss = 0.56371540\n",
      "Iteration 48, loss = 0.53017334\n",
      "Iteration 49, loss = 0.69992783\n",
      "Iteration 50, loss = 0.54438439\n",
      "Iteration 51, loss = 0.77699864\n",
      "Iteration 52, loss = 1.06602631\n",
      "Iteration 53, loss = 0.72467112\n",
      "Iteration 54, loss = 0.58655842\n",
      "Iteration 55, loss = 0.88890241\n",
      "Iteration 56, loss = 0.53573443\n",
      "Iteration 57, loss = 0.82832485\n",
      "Iteration 58, loss = 1.15948668\n",
      "Iteration 59, loss = 0.79725354\n",
      "Training loss did not improve more than tol=0.000100 for 10 consecutive epochs. Stopping.\n",
      "Iteration 1, loss = 14.63617641\n",
      "Iteration 2, loss = 8.21610198\n",
      "Iteration 3, loss = 2.75014101\n",
      "Iteration 4, loss = 3.92566749\n",
      "Iteration 5, loss = 6.51612524\n",
      "Iteration 6, loss = 6.93639490\n",
      "Iteration 7, loss = 5.64020352\n",
      "Iteration 8, loss = 3.49340471\n",
      "Iteration 9, loss = 2.00479458\n",
      "Iteration 10, loss = 2.61864221\n",
      "Iteration 11, loss = 3.40909697\n",
      "Iteration 12, loss = 3.18002582\n",
      "Iteration 13, loss = 2.03884822\n",
      "Iteration 14, loss = 1.88983037\n",
      "Iteration 15, loss = 2.71360352\n",
      "Iteration 16, loss = 2.85786144\n",
      "Iteration 17, loss = 2.18711396\n",
      "Iteration 18, loss = 1.48004401\n",
      "Iteration 19, loss = 1.57324934\n",
      "Iteration 20, loss = 1.69546461\n",
      "Iteration 21, loss = 1.51011256\n",
      "Iteration 22, loss = 1.22881423\n",
      "Iteration 23, loss = 1.13603827\n",
      "Iteration 24, loss = 1.17527781\n",
      "Iteration 25, loss = 1.13815643\n",
      "Iteration 26, loss = 1.00427209\n",
      "Iteration 27, loss = 0.98702865\n",
      "Iteration 28, loss = 0.93877209\n",
      "Iteration 29, loss = 0.91863102\n",
      "Iteration 30, loss = 0.95197674\n",
      "Iteration 31, loss = 0.86300578\n",
      "Iteration 32, loss = 0.82687547\n",
      "Iteration 33, loss = 0.81861428\n",
      "Iteration 34, loss = 0.78694433\n",
      "Iteration 35, loss = 0.77938910\n",
      "Iteration 36, loss = 0.76976409\n",
      "Iteration 37, loss = 0.77409707\n",
      "Iteration 38, loss = 0.72997820\n",
      "Iteration 39, loss = 0.71684185\n",
      "Iteration 40, loss = 0.70645595\n",
      "Iteration 41, loss = 0.69772648\n",
      "Iteration 42, loss = 0.69872035\n",
      "Iteration 43, loss = 0.68240081\n",
      "Iteration 44, loss = 0.67841810\n",
      "Iteration 45, loss = 0.66844662\n",
      "Iteration 46, loss = 0.67467562\n",
      "Iteration 47, loss = 0.71142076\n",
      "Iteration 48, loss = 0.70638685\n",
      "Iteration 49, loss = 0.63415119\n",
      "Iteration 50, loss = 0.69286440\n",
      "Iteration 51, loss = 0.78640366\n",
      "Iteration 52, loss = 0.63179141\n",
      "Iteration 53, loss = 0.72430607\n",
      "Iteration 54, loss = 0.90820466\n",
      "Iteration 55, loss = 0.69003189\n",
      "Iteration 56, loss = 0.70368226\n",
      "Iteration 57, loss = 0.82962164\n",
      "Iteration 58, loss = 0.58828302\n",
      "Iteration 59, loss = 0.98009627\n",
      "Iteration 60, loss = 0.83199759\n",
      "Iteration 61, loss = 0.60949435\n",
      "Iteration 62, loss = 0.77555033\n",
      "Iteration 63, loss = 0.68488797\n",
      "Iteration 64, loss = 0.64544773\n",
      "Iteration 65, loss = 0.61510124\n",
      "Iteration 66, loss = 0.56929082\n",
      "Iteration 67, loss = 0.54237406\n",
      "Iteration 68, loss = 0.55281266\n",
      "Iteration 69, loss = 0.54524305\n",
      "Iteration 70, loss = 0.52764327\n",
      "Iteration 71, loss = 0.55104943\n",
      "Iteration 72, loss = 0.52096302\n",
      "Iteration 73, loss = 0.54847282\n",
      "Iteration 74, loss = 0.51181865\n",
      "Iteration 75, loss = 0.55042144\n",
      "Iteration 76, loss = 0.50464099\n",
      "Iteration 77, loss = 0.59003537\n",
      "Iteration 78, loss = 0.50514114\n",
      "Iteration 79, loss = 0.60590100\n",
      "Iteration 80, loss = 0.51495435\n",
      "Iteration 81, loss = 0.49060222\n",
      "Iteration 82, loss = 0.49393901\n",
      "Iteration 83, loss = 0.48411511\n",
      "Iteration 84, loss = 0.57053616\n",
      "Iteration 85, loss = 0.60771203\n",
      "Iteration 86, loss = 0.48899831\n",
      "Iteration 87, loss = 0.48534980\n",
      "Iteration 88, loss = 0.59913658\n",
      "Iteration 89, loss = 0.58015775\n",
      "Iteration 90, loss = 0.47655810\n",
      "Iteration 91, loss = 0.47140715\n",
      "Iteration 92, loss = 0.47596380\n",
      "Iteration 93, loss = 0.48325433\n",
      "Iteration 94, loss = 0.53754022\n",
      "Iteration 95, loss = 0.55438371\n",
      "Iteration 96, loss = 0.46665473\n",
      "Iteration 97, loss = 0.46743399\n",
      "Iteration 98, loss = 0.45438479\n",
      "Iteration 99, loss = 0.51272565\n",
      "Iteration 100, loss = 0.50624922\n",
      "Iteration 101, loss = 0.49082485\n",
      "Iteration 102, loss = 0.47895279\n",
      "Iteration 103, loss = 0.44483203\n",
      "Iteration 104, loss = 0.46083109\n",
      "Iteration 105, loss = 0.54609231\n",
      "Iteration 106, loss = 0.45770761\n",
      "Iteration 107, loss = 0.48326499\n",
      "Iteration 108, loss = 0.43452468\n",
      "Iteration 109, loss = 0.70103610\n",
      "Iteration 110, loss = 0.59523173\n",
      "Iteration 111, loss = 0.51451846\n",
      "Iteration 112, loss = 1.02178761\n",
      "Iteration 113, loss = 0.64928120\n",
      "Iteration 114, loss = 0.60849873\n",
      "Iteration 115, loss = 0.63141856\n"
     ]
    },
    {
     "name": "stdout",
     "output_type": "stream",
     "text": [
      "Iteration 116, loss = 0.50730791\n",
      "Iteration 117, loss = 0.67952888\n",
      "Iteration 118, loss = 0.43198156\n",
      "Iteration 119, loss = 0.58528230\n",
      "Iteration 120, loss = 0.56154859\n",
      "Iteration 121, loss = 0.47212054\n",
      "Iteration 122, loss = 0.73507637\n",
      "Iteration 123, loss = 0.49551108\n",
      "Iteration 124, loss = 0.50920621\n",
      "Iteration 125, loss = 0.48344834\n",
      "Iteration 126, loss = 0.45958543\n",
      "Iteration 127, loss = 0.58987753\n",
      "Iteration 128, loss = 0.53480898\n",
      "Iteration 129, loss = 0.41824190\n",
      "Iteration 130, loss = 0.41862023\n",
      "Iteration 131, loss = 0.54316873\n",
      "Iteration 132, loss = 0.59260508\n",
      "Iteration 133, loss = 0.40762361\n",
      "Iteration 134, loss = 0.68004528\n",
      "Iteration 135, loss = 0.50252400\n",
      "Iteration 136, loss = 0.60126900\n",
      "Iteration 137, loss = 0.98452477\n",
      "Iteration 138, loss = 0.41640904\n",
      "Iteration 139, loss = 0.77627276\n",
      "Iteration 140, loss = 1.08849901\n",
      "Iteration 141, loss = 0.65660545\n",
      "Iteration 142, loss = 0.49938499\n",
      "Iteration 143, loss = 1.03195587\n",
      "Iteration 144, loss = 0.49919861\n",
      "Training loss did not improve more than tol=0.000100 for 10 consecutive epochs. Stopping.\n",
      "Iteration 1, loss = 14.88244417\n",
      "Iteration 2, loss = 9.07009161\n",
      "Iteration 3, loss = 3.60140630\n",
      "Iteration 4, loss = 2.48937184\n",
      "Iteration 5, loss = 4.07790622\n",
      "Iteration 6, loss = 4.09705422\n",
      "Iteration 7, loss = 3.06675848\n",
      "Iteration 8, loss = 2.02405830\n",
      "Iteration 9, loss = 1.79473108\n",
      "Iteration 10, loss = 1.99842707\n",
      "Iteration 11, loss = 1.87893607\n",
      "Iteration 12, loss = 1.52456222\n",
      "Iteration 13, loss = 1.40320599\n",
      "Iteration 14, loss = 1.38213533\n",
      "Iteration 15, loss = 1.46490204\n",
      "Iteration 16, loss = 1.36075894\n",
      "Iteration 17, loss = 1.18062231\n",
      "Iteration 18, loss = 1.08228963\n",
      "Iteration 19, loss = 0.97006052\n",
      "Iteration 20, loss = 0.95222495\n",
      "Iteration 21, loss = 1.00000288\n",
      "Iteration 22, loss = 0.88171969\n",
      "Iteration 23, loss = 0.88471220\n",
      "Iteration 24, loss = 0.99960516\n",
      "Iteration 25, loss = 0.97241376\n",
      "Iteration 26, loss = 0.82617874\n",
      "Iteration 27, loss = 0.85818430\n",
      "Iteration 28, loss = 0.80852559\n",
      "Iteration 29, loss = 0.88195384\n",
      "Iteration 30, loss = 1.03615824\n",
      "Iteration 31, loss = 0.97398076\n",
      "Iteration 32, loss = 0.81239300\n",
      "Iteration 33, loss = 0.80322945\n",
      "Iteration 34, loss = 0.87134505\n",
      "Iteration 35, loss = 0.77825132\n",
      "Iteration 36, loss = 0.82166577\n",
      "Iteration 37, loss = 0.75986058\n",
      "Iteration 38, loss = 0.94435669\n",
      "Iteration 39, loss = 1.18154287\n",
      "Iteration 40, loss = 0.78660689\n",
      "Iteration 41, loss = 0.84774281\n",
      "Iteration 42, loss = 0.91911224\n",
      "Iteration 43, loss = 0.73330290\n",
      "Iteration 44, loss = 0.83774485\n",
      "Iteration 45, loss = 0.87541080\n",
      "Iteration 46, loss = 0.83536213\n",
      "Iteration 47, loss = 0.72757758\n",
      "Iteration 48, loss = 0.75238039\n",
      "Iteration 49, loss = 0.89234934\n",
      "Iteration 50, loss = 0.79038053\n",
      "Iteration 51, loss = 0.68145638\n",
      "Iteration 52, loss = 0.73267692\n",
      "Iteration 53, loss = 0.73164151\n",
      "Iteration 54, loss = 0.81921520\n",
      "Iteration 55, loss = 0.71922780\n",
      "Iteration 56, loss = 0.67272838\n",
      "Iteration 57, loss = 0.76413180\n",
      "Iteration 58, loss = 0.80130662\n",
      "Iteration 59, loss = 0.76739846\n",
      "Iteration 60, loss = 0.65260453\n",
      "Iteration 61, loss = 0.64502121\n",
      "Iteration 62, loss = 0.62785793\n",
      "Iteration 63, loss = 0.68832362\n",
      "Iteration 64, loss = 0.70012917\n",
      "Iteration 65, loss = 0.62521790\n",
      "Iteration 66, loss = 0.65742691\n",
      "Iteration 67, loss = 0.62050660\n",
      "Iteration 68, loss = 0.72474496\n",
      "Iteration 69, loss = 0.66241865\n",
      "Iteration 70, loss = 0.60331523\n",
      "Iteration 71, loss = 0.59958538\n",
      "Iteration 72, loss = 0.60606864\n",
      "Iteration 73, loss = 0.60167963\n",
      "Iteration 74, loss = 0.60124757\n",
      "Iteration 75, loss = 0.65610957\n",
      "Iteration 76, loss = 0.69120783\n",
      "Iteration 77, loss = 0.60826704\n",
      "Iteration 78, loss = 0.59586675\n",
      "Iteration 79, loss = 0.59616657\n",
      "Iteration 80, loss = 0.59225397\n",
      "Iteration 81, loss = 0.58324738\n",
      "Iteration 82, loss = 0.64337480\n",
      "Iteration 83, loss = 0.87453783\n",
      "Iteration 84, loss = 0.71720800\n",
      "Iteration 85, loss = 0.65060554\n",
      "Iteration 86, loss = 0.78668119\n",
      "Iteration 87, loss = 0.56398255\n",
      "Iteration 88, loss = 0.63465235\n",
      "Iteration 89, loss = 0.77003054\n",
      "Iteration 90, loss = 0.73068818\n",
      "Iteration 91, loss = 0.54951091\n",
      "Iteration 92, loss = 0.68285890\n",
      "Iteration 93, loss = 0.64512387\n",
      "Iteration 94, loss = 0.54993950\n",
      "Iteration 95, loss = 0.56187645\n",
      "Iteration 96, loss = 0.56400892\n",
      "Iteration 97, loss = 0.65494980\n",
      "Iteration 98, loss = 0.60014742\n",
      "Iteration 99, loss = 0.54377975\n",
      "Iteration 100, loss = 0.55540761\n",
      "Iteration 101, loss = 0.61403092\n",
      "Iteration 102, loss = 0.56164639\n",
      "Iteration 103, loss = 0.52431551\n",
      "Iteration 104, loss = 0.52037727\n",
      "Iteration 105, loss = 0.53139608\n",
      "Iteration 106, loss = 0.80104426\n",
      "Iteration 107, loss = 0.82397174\n",
      "Iteration 108, loss = 0.55234309\n",
      "Iteration 109, loss = 0.57271156\n",
      "Iteration 110, loss = 0.92600733\n",
      "Iteration 111, loss = 0.74853917\n",
      "Iteration 112, loss = 0.51872264\n",
      "Iteration 113, loss = 0.95143525\n",
      "Iteration 114, loss = 0.69259623\n",
      "Iteration 115, loss = 0.58706435\n",
      "Iteration 116, loss = 1.02198991\n",
      "Iteration 117, loss = 0.75112046\n",
      "Iteration 118, loss = 0.49302656\n",
      "Iteration 119, loss = 0.65268946\n",
      "Iteration 120, loss = 0.61443923\n",
      "Iteration 121, loss = 0.50920994\n",
      "Iteration 122, loss = 0.48275617\n",
      "Iteration 123, loss = 0.51616781\n",
      "Iteration 124, loss = 0.59317732\n",
      "Iteration 125, loss = 0.51360641\n",
      "Iteration 126, loss = 0.52467080\n",
      "Iteration 127, loss = 0.67124280\n",
      "Iteration 128, loss = 0.48155469\n",
      "Iteration 129, loss = 0.57276742\n",
      "Iteration 130, loss = 0.53661808\n",
      "Iteration 131, loss = 0.47844569\n",
      "Iteration 132, loss = 0.49269918\n",
      "Iteration 133, loss = 0.47641534\n",
      "Iteration 134, loss = 0.52314781\n",
      "Iteration 135, loss = 0.52400203\n",
      "Iteration 136, loss = 0.47232063\n",
      "Iteration 137, loss = 0.56603640\n",
      "Iteration 138, loss = 0.48945222\n",
      "Iteration 139, loss = 0.57121235\n",
      "Iteration 140, loss = 0.69431747\n",
      "Iteration 141, loss = 0.47880387\n",
      "Iteration 142, loss = 0.50680229\n",
      "Iteration 143, loss = 0.51954292\n",
      "Iteration 144, loss = 0.47964864\n",
      "Iteration 145, loss = 0.62209557\n",
      "Iteration 146, loss = 0.47793815\n",
      "Iteration 147, loss = 0.57660254\n",
      "Training loss did not improve more than tol=0.000100 for 10 consecutive epochs. Stopping.\n",
      "Iteration 1, loss = 7.42540881\n",
      "Iteration 2, loss = 3.74115918\n",
      "Iteration 3, loss = 2.45480145\n",
      "Iteration 4, loss = 2.62959066\n",
      "Iteration 5, loss = 2.58266801\n",
      "Iteration 6, loss = 2.18854393\n",
      "Iteration 7, loss = 2.39874838\n",
      "Iteration 8, loss = 2.63773399\n",
      "Iteration 9, loss = 2.20412236\n",
      "Iteration 10, loss = 1.80647972\n",
      "Iteration 11, loss = 1.81306045\n",
      "Iteration 12, loss = 1.77063361\n",
      "Iteration 13, loss = 1.51933068\n",
      "Iteration 14, loss = 1.58376405\n",
      "Iteration 15, loss = 1.61243377\n",
      "Iteration 16, loss = 1.34062912\n",
      "Iteration 17, loss = 1.16380542\n",
      "Iteration 18, loss = 1.37322965\n",
      "Iteration 19, loss = 1.27105175\n",
      "Iteration 20, loss = 0.95134020\n",
      "Iteration 21, loss = 1.15701661\n",
      "Iteration 22, loss = 0.96322451\n",
      "Iteration 23, loss = 1.01931177\n",
      "Iteration 24, loss = 1.36240526\n",
      "Iteration 25, loss = 1.08640108\n",
      "Iteration 26, loss = 0.82564172\n",
      "Iteration 27, loss = 0.80424863\n",
      "Iteration 28, loss = 0.83222295\n",
      "Iteration 29, loss = 0.81693880\n",
      "Iteration 30, loss = 0.77218966\n",
      "Iteration 31, loss = 0.76268140\n",
      "Iteration 32, loss = 0.74985618\n",
      "Iteration 33, loss = 0.75530991\n",
      "Iteration 34, loss = 0.80693490\n",
      "Iteration 35, loss = 0.77091036\n",
      "Iteration 36, loss = 0.70607341\n",
      "Iteration 37, loss = 0.69992931\n",
      "Iteration 38, loss = 0.71873971\n",
      "Iteration 39, loss = 0.73223853\n",
      "Iteration 40, loss = 0.68553178\n",
      "Iteration 41, loss = 0.96499586\n",
      "Iteration 42, loss = 0.98461805\n",
      "Iteration 43, loss = 0.67434094\n",
      "Iteration 44, loss = 0.83792341\n",
      "Iteration 45, loss = 0.82792752\n",
      "Iteration 46, loss = 0.70123492\n",
      "Iteration 47, loss = 0.63850976\n",
      "Iteration 48, loss = 0.63680851\n",
      "Iteration 49, loss = 0.71271276\n",
      "Iteration 50, loss = 0.62228175\n",
      "Iteration 51, loss = 0.75604597\n",
      "Iteration 52, loss = 0.91114236\n",
      "Iteration 53, loss = 0.69057263\n",
      "Iteration 54, loss = 0.61171160\n",
      "Iteration 55, loss = 0.59827016\n",
      "Iteration 56, loss = 0.59041258\n",
      "Iteration 57, loss = 0.64766721\n",
      "Iteration 58, loss = 0.57825071\n",
      "Iteration 59, loss = 0.54805301\n",
      "Iteration 60, loss = 0.55817646\n",
      "Iteration 61, loss = 0.60869756\n",
      "Iteration 62, loss = 0.60570666\n",
      "Iteration 63, loss = 0.56086615\n",
      "Iteration 64, loss = 0.63207040\n",
      "Iteration 65, loss = 1.06363098\n",
      "Iteration 66, loss = 0.72984100\n",
      "Iteration 67, loss = 0.50303516\n",
      "Iteration 68, loss = 0.59036817\n",
      "Iteration 69, loss = 0.54107270\n",
      "Iteration 70, loss = 0.59284344\n",
      "Iteration 71, loss = 0.66732094\n",
      "Iteration 72, loss = 0.49445145\n",
      "Iteration 73, loss = 0.48529705\n",
      "Iteration 74, loss = 0.48560601\n",
      "Iteration 75, loss = 0.48492130\n",
      "Iteration 76, loss = 0.50601058\n",
      "Iteration 77, loss = 0.52799120\n",
      "Iteration 78, loss = 0.53047525\n",
      "Iteration 79, loss = 0.52055520\n",
      "Iteration 80, loss = 0.46447071\n",
      "Iteration 81, loss = 0.50776638\n",
      "Iteration 82, loss = 0.71182277\n",
      "Iteration 83, loss = 0.46055650\n",
      "Iteration 84, loss = 0.80370739\n",
      "Iteration 85, loss = 0.60016329\n",
      "Iteration 86, loss = 0.62913630\n",
      "Iteration 87, loss = 1.27341936\n",
      "Iteration 88, loss = 0.59882078\n",
      "Iteration 89, loss = 0.74584627\n",
      "Iteration 90, loss = 1.03674873\n",
      "Iteration 91, loss = 0.67526369\n",
      "Iteration 92, loss = 0.44761334\n",
      "Iteration 93, loss = 0.45027470\n",
      "Iteration 94, loss = 0.48953098\n",
      "Iteration 95, loss = 0.67553065\n",
      "Iteration 96, loss = 0.55599015\n",
      "Iteration 97, loss = 0.51003624\n",
      "Iteration 98, loss = 0.62504456\n",
      "Iteration 99, loss = 0.52879569\n",
      "Iteration 100, loss = 1.04202988\n",
      "Iteration 101, loss = 0.68143477\n",
      "Iteration 102, loss = 0.47396607\n",
      "Iteration 103, loss = 0.97721486\n",
      "Training loss did not improve more than tol=0.000100 for 10 consecutive epochs. Stopping.\n",
      "Iteration 1, loss = 19.86383302\n",
      "Iteration 2, loss = 17.26695061\n",
      "Iteration 3, loss = 12.51793992\n",
      "Iteration 4, loss = 6.96306243\n",
      "Iteration 5, loss = 2.39242460\n",
      "Iteration 6, loss = 1.98201749\n",
      "Iteration 7, loss = 3.61435872\n",
      "Iteration 8, loss = 4.37618729\n",
      "Iteration 9, loss = 4.17360491\n",
      "Iteration 10, loss = 3.35284029\n",
      "Iteration 11, loss = 2.29678547\n",
      "Iteration 12, loss = 1.60310320\n",
      "Iteration 13, loss = 1.63387184\n",
      "Iteration 14, loss = 2.00359808\n",
      "Iteration 15, loss = 2.11130019\n",
      "Iteration 16, loss = 1.86765864\n",
      "Iteration 17, loss = 1.53938100\n",
      "Iteration 18, loss = 1.38224482\n",
      "Iteration 19, loss = 1.37131608\n",
      "Iteration 20, loss = 1.33941854\n"
     ]
    },
    {
     "name": "stdout",
     "output_type": "stream",
     "text": [
      "Iteration 21, loss = 1.28043109\n",
      "Iteration 22, loss = 1.22057630\n",
      "Iteration 23, loss = 1.16836797\n",
      "Iteration 24, loss = 1.14220197\n",
      "Iteration 25, loss = 1.13291043\n",
      "Iteration 26, loss = 1.08944868\n",
      "Iteration 27, loss = 1.02095722\n",
      "Iteration 28, loss = 0.96559340\n",
      "Iteration 29, loss = 0.97794267\n",
      "Iteration 30, loss = 1.00557473\n",
      "Iteration 31, loss = 0.93486496\n",
      "Iteration 32, loss = 0.85076900\n",
      "Iteration 33, loss = 0.98414203\n",
      "Iteration 34, loss = 1.19844041\n",
      "Iteration 35, loss = 1.00851765\n",
      "Iteration 36, loss = 0.76716241\n",
      "Iteration 37, loss = 0.90130452\n",
      "Iteration 38, loss = 1.18953472\n",
      "Iteration 39, loss = 1.11788629\n",
      "Iteration 40, loss = 0.84243995\n",
      "Iteration 41, loss = 0.71003062\n",
      "Iteration 42, loss = 0.74039850\n",
      "Iteration 43, loss = 0.75449670\n",
      "Iteration 44, loss = 0.71819699\n",
      "Iteration 45, loss = 0.70533670\n",
      "Iteration 46, loss = 0.66963723\n",
      "Iteration 47, loss = 0.64494773\n",
      "Iteration 48, loss = 0.63861259\n",
      "Iteration 49, loss = 0.66418876\n",
      "Iteration 50, loss = 0.61337098\n",
      "Iteration 51, loss = 0.64253395\n",
      "Iteration 52, loss = 0.59879107\n",
      "Iteration 53, loss = 0.59996749\n",
      "Iteration 54, loss = 0.61494312\n",
      "Iteration 55, loss = 0.61350718\n",
      "Iteration 56, loss = 0.56458103\n",
      "Iteration 57, loss = 0.63693899\n",
      "Iteration 58, loss = 0.64270137\n",
      "Iteration 59, loss = 0.55149124\n",
      "Iteration 60, loss = 0.54742448\n",
      "Iteration 61, loss = 0.54038151\n",
      "Iteration 62, loss = 0.53879008\n",
      "Iteration 63, loss = 0.60474329\n",
      "Iteration 64, loss = 0.52785033\n",
      "Iteration 65, loss = 0.68760871\n",
      "Iteration 66, loss = 0.66019069\n",
      "Iteration 67, loss = 0.57427466\n",
      "Iteration 68, loss = 0.97573468\n",
      "Iteration 69, loss = 0.62748154\n",
      "Iteration 70, loss = 0.60082818\n",
      "Iteration 71, loss = 0.85268503\n",
      "Iteration 72, loss = 0.69238718\n",
      "Iteration 73, loss = 0.50627779\n",
      "Iteration 74, loss = 0.61529812\n",
      "Iteration 75, loss = 0.52387852\n",
      "Iteration 76, loss = 0.49980665\n",
      "Iteration 77, loss = 0.52891736\n",
      "Iteration 78, loss = 0.54168945\n",
      "Iteration 79, loss = 0.51824324\n",
      "Iteration 80, loss = 0.49111600\n",
      "Iteration 81, loss = 0.48351779\n",
      "Iteration 82, loss = 0.56532742\n",
      "Iteration 83, loss = 0.48980294\n",
      "Iteration 84, loss = 0.51669849\n",
      "Iteration 85, loss = 0.65953316\n",
      "Iteration 86, loss = 0.59612147\n",
      "Iteration 87, loss = 0.47042596\n",
      "Iteration 88, loss = 0.47471768\n",
      "Iteration 89, loss = 0.48049810\n",
      "Iteration 90, loss = 0.45734645\n",
      "Iteration 91, loss = 0.53387327\n",
      "Iteration 92, loss = 0.60240257\n",
      "Iteration 93, loss = 0.47807045\n",
      "Iteration 94, loss = 0.46204234\n",
      "Iteration 95, loss = 0.44526158\n",
      "Iteration 96, loss = 0.53000743\n",
      "Iteration 97, loss = 0.68579321\n",
      "Iteration 98, loss = 0.48893180\n",
      "Iteration 99, loss = 0.47021114\n",
      "Iteration 100, loss = 0.48257861\n",
      "Iteration 101, loss = 0.43075740\n",
      "Iteration 102, loss = 0.44458777\n",
      "Iteration 103, loss = 0.52016132\n",
      "Iteration 104, loss = 0.50445361\n",
      "Iteration 105, loss = 0.44224767\n",
      "Iteration 106, loss = 0.42000746\n",
      "Iteration 107, loss = 0.45246832\n",
      "Iteration 108, loss = 0.53017987\n",
      "Iteration 109, loss = 0.42341560\n",
      "Iteration 110, loss = 0.60712876\n",
      "Iteration 111, loss = 0.75796531\n",
      "Iteration 112, loss = 0.47380781\n",
      "Iteration 113, loss = 0.48363653\n",
      "Iteration 114, loss = 0.60321255\n",
      "Iteration 115, loss = 0.41948688\n",
      "Iteration 116, loss = 0.44725251\n",
      "Iteration 117, loss = 0.42470402\n",
      "Iteration 118, loss = 0.45603762\n",
      "Iteration 119, loss = 0.42967649\n",
      "Iteration 120, loss = 0.62665128\n",
      "Iteration 121, loss = 0.47025443\n",
      "Iteration 122, loss = 0.41006169\n",
      "Iteration 123, loss = 0.42946230\n",
      "Iteration 124, loss = 0.58968041\n",
      "Iteration 125, loss = 0.44110732\n",
      "Iteration 126, loss = 0.50796386\n",
      "Iteration 127, loss = 0.61043436\n",
      "Iteration 128, loss = 0.44410715\n",
      "Iteration 129, loss = 0.39571925\n",
      "Iteration 130, loss = 0.40291198\n",
      "Iteration 131, loss = 0.42643654\n",
      "Iteration 132, loss = 0.42097313\n",
      "Iteration 133, loss = 0.39172846\n",
      "Iteration 134, loss = 0.45363217\n",
      "Iteration 135, loss = 0.42725847\n",
      "Iteration 136, loss = 0.40047363\n",
      "Iteration 137, loss = 0.42649521\n",
      "Iteration 138, loss = 0.38724311\n",
      "Iteration 139, loss = 0.39929879\n",
      "Iteration 140, loss = 0.40108572\n",
      "Iteration 141, loss = 0.38324477\n",
      "Iteration 142, loss = 0.42249032\n",
      "Iteration 143, loss = 0.39321022\n",
      "Iteration 144, loss = 0.43652105\n",
      "Iteration 145, loss = 0.38793112\n",
      "Iteration 146, loss = 0.43969350\n",
      "Iteration 147, loss = 0.40002797\n",
      "Iteration 148, loss = 0.38601692\n",
      "Iteration 149, loss = 0.38970781\n",
      "Iteration 150, loss = 0.37750503\n",
      "Iteration 151, loss = 0.37651029\n",
      "Iteration 152, loss = 0.37626969\n",
      "Iteration 153, loss = 0.37619431\n",
      "Iteration 154, loss = 0.37403805\n",
      "Iteration 155, loss = 0.39011712\n",
      "Iteration 156, loss = 0.37298591\n",
      "Iteration 157, loss = 0.39823965\n",
      "Iteration 158, loss = 0.41910005\n",
      "Iteration 159, loss = 0.40120195\n",
      "Iteration 160, loss = 0.37631854\n",
      "Iteration 161, loss = 0.37498205\n",
      "Iteration 162, loss = 0.38527435\n",
      "Iteration 163, loss = 0.37257344\n",
      "Iteration 164, loss = 0.36989644\n",
      "Iteration 165, loss = 0.39193718\n",
      "Iteration 166, loss = 0.45862559\n",
      "Iteration 167, loss = 0.36608544\n",
      "Iteration 168, loss = 0.55315154\n",
      "Iteration 169, loss = 0.48793520\n",
      "Iteration 170, loss = 0.38070798\n",
      "Iteration 171, loss = 0.41101990\n",
      "Iteration 172, loss = 0.37833580\n",
      "Iteration 173, loss = 0.45623978\n",
      "Iteration 174, loss = 0.36891943\n",
      "Iteration 175, loss = 0.45937191\n",
      "Iteration 176, loss = 0.46894959\n",
      "Iteration 177, loss = 0.39468521\n",
      "Iteration 178, loss = 0.56028162\n",
      "Training loss did not improve more than tol=0.000100 for 10 consecutive epochs. Stopping.\n",
      "Iteration 1, loss = 6.00424134\n",
      "Iteration 2, loss = 1.67418918\n",
      "Iteration 3, loss = 2.09328005\n",
      "Iteration 4, loss = 2.66252781\n",
      "Iteration 5, loss = 1.94982957\n",
      "Iteration 6, loss = 1.01029252\n",
      "Iteration 7, loss = 1.49606969\n",
      "Iteration 8, loss = 1.58526930\n",
      "Iteration 9, loss = 1.02439192\n",
      "Iteration 10, loss = 0.99207633\n",
      "Iteration 11, loss = 1.13810143\n",
      "Iteration 12, loss = 0.92366334\n",
      "Iteration 13, loss = 0.92541442\n",
      "Iteration 14, loss = 1.07947703\n",
      "Iteration 15, loss = 0.85116873\n",
      "Iteration 16, loss = 0.87819417\n",
      "Iteration 17, loss = 0.95999857\n",
      "Iteration 18, loss = 0.77820134\n",
      "Iteration 19, loss = 0.86009731\n",
      "Iteration 20, loss = 0.88825776\n",
      "Iteration 21, loss = 0.70396273\n",
      "Iteration 22, loss = 0.77923827\n",
      "Iteration 23, loss = 0.94995284\n",
      "Iteration 24, loss = 0.74696693\n",
      "Iteration 25, loss = 0.64333534\n",
      "Iteration 26, loss = 0.69391823\n",
      "Iteration 27, loss = 0.61482781\n",
      "Iteration 28, loss = 0.65504332\n",
      "Iteration 29, loss = 0.63414456\n",
      "Iteration 30, loss = 0.59970116\n",
      "Iteration 31, loss = 0.64973786\n",
      "Iteration 32, loss = 0.58995237\n",
      "Iteration 33, loss = 0.73678083\n",
      "Iteration 34, loss = 0.96089617\n",
      "Iteration 35, loss = 0.81079083\n",
      "Iteration 36, loss = 0.58229409\n",
      "Iteration 37, loss = 0.66656730\n",
      "Iteration 38, loss = 0.67962336\n",
      "Iteration 39, loss = 0.55474360\n",
      "Iteration 40, loss = 0.72658119\n",
      "Iteration 41, loss = 0.75061541\n",
      "Iteration 42, loss = 0.57835397\n",
      "Iteration 43, loss = 0.55001552\n",
      "Iteration 44, loss = 0.54864335\n",
      "Iteration 45, loss = 0.55611976\n",
      "Iteration 46, loss = 0.56176455\n",
      "Iteration 47, loss = 0.55163192\n",
      "Iteration 48, loss = 0.53929961\n",
      "Iteration 49, loss = 0.54346702\n",
      "Iteration 50, loss = 0.56306874\n",
      "Iteration 51, loss = 0.53149048\n",
      "Iteration 52, loss = 0.69170304\n",
      "Iteration 53, loss = 0.72918726\n",
      "Iteration 54, loss = 0.57174005\n",
      "Iteration 55, loss = 0.54212911\n",
      "Iteration 56, loss = 0.62962506\n",
      "Iteration 57, loss = 0.56024260\n",
      "Iteration 58, loss = 0.52394540\n",
      "Iteration 59, loss = 0.59731900\n",
      "Iteration 60, loss = 0.56319055\n",
      "Iteration 61, loss = 0.51695607\n",
      "Iteration 62, loss = 0.57510181\n",
      "Iteration 63, loss = 0.58138196\n",
      "Iteration 64, loss = 0.51776165\n",
      "Iteration 65, loss = 0.58213805\n",
      "Iteration 66, loss = 0.68507249\n",
      "Iteration 67, loss = 0.70342575\n",
      "Iteration 68, loss = 0.52421208\n",
      "Iteration 69, loss = 0.61169833\n",
      "Iteration 70, loss = 0.60369784\n",
      "Iteration 71, loss = 0.49723053\n",
      "Iteration 72, loss = 0.55449905\n",
      "Iteration 73, loss = 0.62143947\n",
      "Iteration 74, loss = 0.49239662\n",
      "Iteration 75, loss = 0.54429504\n",
      "Iteration 76, loss = 0.58447927\n",
      "Iteration 77, loss = 0.48259688\n",
      "Iteration 78, loss = 0.50951529\n",
      "Iteration 79, loss = 0.49342315\n",
      "Iteration 80, loss = 0.47378601\n",
      "Iteration 81, loss = 0.52473421\n",
      "Iteration 82, loss = 0.52921837\n",
      "Iteration 83, loss = 0.47426819\n",
      "Iteration 84, loss = 0.50846572\n",
      "Iteration 85, loss = 0.49864612\n",
      "Iteration 86, loss = 0.47498849\n",
      "Iteration 87, loss = 0.57060448\n",
      "Iteration 88, loss = 0.57923706\n",
      "Iteration 89, loss = 0.49098142\n",
      "Iteration 90, loss = 0.50357414\n",
      "Iteration 91, loss = 0.52863421\n",
      "Training loss did not improve more than tol=0.000100 for 10 consecutive epochs. Stopping.\n",
      "Iteration 1, loss = 2.74642576\n",
      "Iteration 2, loss = 2.28525404\n",
      "Iteration 3, loss = 1.96210189\n",
      "Iteration 4, loss = 2.36201881\n",
      "Iteration 5, loss = 2.48034966\n",
      "Iteration 6, loss = 1.48001676\n",
      "Iteration 7, loss = 1.62141005\n",
      "Iteration 8, loss = 1.70450312\n",
      "Iteration 9, loss = 1.33949997\n",
      "Iteration 10, loss = 1.00142934\n",
      "Iteration 11, loss = 1.10332442\n",
      "Iteration 12, loss = 1.09263783\n",
      "Iteration 13, loss = 0.83240544\n",
      "Iteration 14, loss = 0.86061810\n",
      "Iteration 15, loss = 0.82527403\n",
      "Iteration 16, loss = 0.74320891\n",
      "Iteration 17, loss = 0.75343164\n",
      "Iteration 18, loss = 0.71657400\n",
      "Iteration 19, loss = 0.70193671\n",
      "Iteration 20, loss = 0.83672452\n",
      "Iteration 21, loss = 0.78452426\n",
      "Iteration 22, loss = 0.64800334\n",
      "Iteration 23, loss = 0.71230215\n",
      "Iteration 24, loss = 0.65297379\n",
      "Iteration 25, loss = 0.60470727\n",
      "Iteration 26, loss = 0.65526143\n",
      "Iteration 27, loss = 0.74024148\n",
      "Iteration 28, loss = 0.67083461\n",
      "Iteration 29, loss = 0.58294218\n",
      "Iteration 30, loss = 0.81998710\n",
      "Iteration 31, loss = 0.72049493\n",
      "Iteration 32, loss = 0.58120344\n",
      "Iteration 33, loss = 0.69526811\n",
      "Iteration 34, loss = 0.55800922\n",
      "Iteration 35, loss = 0.59971863\n",
      "Iteration 36, loss = 0.59197672\n",
      "Iteration 37, loss = 0.54247974\n",
      "Iteration 38, loss = 0.52641856\n",
      "Iteration 39, loss = 0.63442970\n",
      "Iteration 40, loss = 0.56434354\n",
      "Iteration 41, loss = 0.53193573\n",
      "Iteration 42, loss = 0.59244803\n",
      "Iteration 43, loss = 0.51763354\n",
      "Iteration 44, loss = 0.55632550\n",
      "Iteration 45, loss = 0.60192467\n",
      "Iteration 46, loss = 0.53796439\n",
      "Iteration 47, loss = 0.49571823\n",
      "Iteration 48, loss = 0.52397592\n",
      "Iteration 49, loss = 0.49674493\n",
      "Iteration 50, loss = 0.50211078\n",
      "Iteration 51, loss = 0.56111944\n",
      "Iteration 52, loss = 0.63021504\n",
      "Iteration 53, loss = 0.50152930\n",
      "Iteration 54, loss = 0.58381675\n",
      "Iteration 55, loss = 0.70277631\n",
      "Iteration 56, loss = 0.49740840\n",
      "Iteration 57, loss = 0.57255492\n",
      "Iteration 58, loss = 0.52126004\n",
      "Training loss did not improve more than tol=0.000100 for 10 consecutive epochs. Stopping.\n",
      "Iteration 1, loss = 19.33876358\n",
      "Iteration 2, loss = 17.31157747\n",
      "Iteration 3, loss = 13.93516678\n"
     ]
    },
    {
     "name": "stdout",
     "output_type": "stream",
     "text": [
      "Iteration 4, loss = 9.79727009\n",
      "Iteration 5, loss = 5.31956032\n",
      "Iteration 6, loss = 2.72529970\n",
      "Iteration 7, loss = 3.06737595\n",
      "Iteration 8, loss = 4.40251555\n",
      "Iteration 9, loss = 5.35963229\n",
      "Iteration 10, loss = 5.65550853\n",
      "Iteration 11, loss = 5.35012987\n",
      "Iteration 12, loss = 4.56841679\n",
      "Iteration 13, loss = 3.58884561\n",
      "Iteration 14, loss = 2.81723988\n",
      "Iteration 15, loss = 2.43279914\n",
      "Iteration 16, loss = 2.53061643\n",
      "Iteration 17, loss = 3.00540293\n",
      "Iteration 18, loss = 3.55479609\n",
      "Iteration 19, loss = 3.65985490\n",
      "Iteration 20, loss = 3.23195252\n",
      "Iteration 21, loss = 2.66403034\n",
      "Iteration 22, loss = 2.26138394\n",
      "Iteration 23, loss = 2.01778248\n",
      "Iteration 24, loss = 1.92074337\n",
      "Iteration 25, loss = 1.99777072\n",
      "Iteration 26, loss = 2.04834267\n",
      "Iteration 27, loss = 1.87818285\n",
      "Iteration 28, loss = 1.57879565\n",
      "Iteration 29, loss = 1.42058032\n",
      "Iteration 30, loss = 1.48473649\n",
      "Iteration 31, loss = 1.55406645\n",
      "Iteration 32, loss = 1.43907476\n",
      "Iteration 33, loss = 1.18583502\n",
      "Iteration 34, loss = 1.00148430\n",
      "Iteration 35, loss = 0.92815647\n",
      "Iteration 36, loss = 0.87540481\n",
      "Iteration 37, loss = 0.82303797\n",
      "Iteration 38, loss = 0.78284810\n",
      "Iteration 39, loss = 0.74773316\n",
      "Iteration 40, loss = 0.74489197\n",
      "Iteration 41, loss = 0.76933392\n",
      "Iteration 42, loss = 0.67426483\n",
      "Iteration 43, loss = 0.68325503\n",
      "Iteration 44, loss = 0.65616436\n",
      "Iteration 45, loss = 0.61950224\n",
      "Iteration 46, loss = 0.61612067\n",
      "Iteration 47, loss = 0.59043796\n",
      "Iteration 48, loss = 0.59975892\n",
      "Iteration 49, loss = 0.57906020\n",
      "Iteration 50, loss = 0.56642503\n",
      "Iteration 51, loss = 0.55853706\n",
      "Iteration 52, loss = 0.55911209\n",
      "Iteration 53, loss = 0.54033365\n",
      "Iteration 54, loss = 0.60153676\n",
      "Iteration 55, loss = 0.59936239\n",
      "Iteration 56, loss = 0.51853719\n",
      "Iteration 57, loss = 0.50923801\n",
      "Iteration 58, loss = 0.53970450\n",
      "Iteration 59, loss = 0.62770120\n",
      "Iteration 60, loss = 0.58738570\n",
      "Iteration 61, loss = 0.49251870\n",
      "Iteration 62, loss = 0.61350079\n",
      "Iteration 63, loss = 0.48743296\n",
      "Iteration 64, loss = 0.65438441\n",
      "Iteration 65, loss = 0.73690203\n",
      "Iteration 66, loss = 0.54149502\n",
      "Iteration 67, loss = 0.48067458\n",
      "Iteration 68, loss = 0.51082231\n",
      "Iteration 69, loss = 0.47207724\n",
      "Iteration 70, loss = 0.46490335\n",
      "Iteration 71, loss = 0.47082961\n",
      "Iteration 72, loss = 0.47656696\n",
      "Iteration 73, loss = 0.45404425\n",
      "Iteration 74, loss = 0.45671913\n",
      "Iteration 75, loss = 0.57027146\n",
      "Iteration 76, loss = 0.54660977\n",
      "Iteration 77, loss = 0.44848682\n",
      "Iteration 78, loss = 0.44352657\n",
      "Iteration 79, loss = 0.43751785\n",
      "Iteration 80, loss = 0.44566189\n",
      "Iteration 81, loss = 0.43656060\n",
      "Iteration 82, loss = 0.44317458\n",
      "Iteration 83, loss = 0.44350848\n",
      "Iteration 84, loss = 0.42924207\n",
      "Iteration 85, loss = 0.43587942\n",
      "Iteration 86, loss = 0.44486022\n",
      "Iteration 87, loss = 0.43448467\n",
      "Iteration 88, loss = 0.42969420\n",
      "Iteration 89, loss = 0.45908408\n",
      "Iteration 90, loss = 0.44089229\n",
      "Iteration 91, loss = 0.44492983\n",
      "Iteration 92, loss = 0.48816257\n",
      "Iteration 93, loss = 0.42163635\n",
      "Iteration 94, loss = 0.50097601\n",
      "Iteration 95, loss = 0.43354127\n",
      "Iteration 96, loss = 0.43874369\n",
      "Iteration 97, loss = 0.42999423\n",
      "Iteration 98, loss = 0.42216458\n",
      "Iteration 99, loss = 0.49814205\n",
      "Iteration 100, loss = 0.48015831\n",
      "Iteration 101, loss = 0.42776140\n",
      "Iteration 102, loss = 0.41019690\n",
      "Iteration 103, loss = 0.41747532\n",
      "Iteration 104, loss = 0.41375340\n",
      "Iteration 105, loss = 0.41648953\n",
      "Iteration 106, loss = 0.45592516\n",
      "Iteration 107, loss = 0.51124442\n",
      "Iteration 108, loss = 0.42722426\n",
      "Iteration 109, loss = 0.40755538\n",
      "Iteration 110, loss = 0.46497321\n",
      "Iteration 111, loss = 0.44494584\n",
      "Iteration 112, loss = 0.39967569\n",
      "Iteration 113, loss = 0.44106016\n",
      "Iteration 114, loss = 0.39978802\n",
      "Iteration 115, loss = 0.44001826\n",
      "Iteration 116, loss = 0.40576451\n",
      "Iteration 117, loss = 0.42511059\n",
      "Iteration 118, loss = 0.43542526\n",
      "Iteration 119, loss = 0.40306458\n",
      "Iteration 120, loss = 0.46119493\n",
      "Iteration 121, loss = 0.42733416\n",
      "Iteration 122, loss = 0.40047092\n",
      "Iteration 123, loss = 0.40304585\n",
      "Training loss did not improve more than tol=0.000100 for 10 consecutive epochs. Stopping.\n",
      "Iteration 1, loss = 1.03739123\n",
      "Iteration 2, loss = 1.08776621\n",
      "Iteration 3, loss = 1.29347367\n",
      "Iteration 4, loss = 0.92982933\n",
      "Iteration 5, loss = 0.98561635\n",
      "Iteration 6, loss = 0.88573789\n",
      "Iteration 7, loss = 0.92698166\n",
      "Iteration 8, loss = 0.85234326\n",
      "Iteration 9, loss = 0.88014605\n",
      "Iteration 10, loss = 0.83986841\n",
      "Iteration 11, loss = 0.98497909\n",
      "Iteration 12, loss = 0.86908814\n",
      "Iteration 13, loss = 0.93861773\n",
      "Iteration 14, loss = 1.00997271\n",
      "Iteration 15, loss = 0.87390697\n",
      "Iteration 16, loss = 0.85382940\n",
      "Iteration 17, loss = 1.02699709\n",
      "Iteration 18, loss = 0.92711304\n",
      "Iteration 19, loss = 0.80399071\n",
      "Iteration 20, loss = 0.80130464\n",
      "Iteration 21, loss = 0.77275885\n",
      "Iteration 22, loss = 0.74157211\n",
      "Iteration 23, loss = 0.72628560\n",
      "Iteration 24, loss = 0.70075066\n",
      "Iteration 25, loss = 1.01944464\n",
      "Iteration 26, loss = 1.10064365\n",
      "Iteration 27, loss = 0.68419806\n",
      "Iteration 28, loss = 0.82366601\n",
      "Iteration 29, loss = 0.77834578\n",
      "Iteration 30, loss = 0.68975837\n",
      "Iteration 31, loss = 0.65366853\n",
      "Iteration 32, loss = 0.62981253\n",
      "Iteration 33, loss = 0.61682725\n",
      "Iteration 34, loss = 0.66645485\n",
      "Iteration 35, loss = 0.61345698\n",
      "Iteration 36, loss = 0.59203492\n",
      "Iteration 37, loss = 0.59236697\n",
      "Iteration 38, loss = 0.60303776\n",
      "Iteration 39, loss = 0.59931314\n",
      "Iteration 40, loss = 0.56677978\n",
      "Iteration 41, loss = 0.56529465\n",
      "Iteration 42, loss = 0.58519338\n",
      "Iteration 43, loss = 0.57114400\n",
      "Iteration 44, loss = 0.61242519\n",
      "Iteration 45, loss = 0.67951282\n",
      "Iteration 46, loss = 0.56042419\n",
      "Iteration 47, loss = 0.55714965\n",
      "Iteration 48, loss = 0.77268252\n",
      "Iteration 49, loss = 0.61753579\n",
      "Iteration 50, loss = 0.71321099\n",
      "Iteration 51, loss = 0.75787674\n",
      "Iteration 52, loss = 0.55665392\n",
      "Iteration 53, loss = 0.53863665\n",
      "Iteration 54, loss = 0.55229562\n",
      "Iteration 55, loss = 0.53321059\n",
      "Iteration 56, loss = 0.57445997\n",
      "Iteration 57, loss = 0.58139887\n",
      "Iteration 58, loss = 0.49473614\n",
      "Iteration 59, loss = 0.50552340\n",
      "Iteration 60, loss = 0.56935785\n",
      "Iteration 61, loss = 0.51388384\n",
      "Iteration 62, loss = 0.51152563\n",
      "Iteration 63, loss = 0.59824786\n",
      "Iteration 64, loss = 0.52266148\n",
      "Iteration 65, loss = 0.47086424\n",
      "Iteration 66, loss = 0.52225357\n",
      "Iteration 67, loss = 0.55100922\n",
      "Iteration 68, loss = 0.47099912\n",
      "Iteration 69, loss = 0.51210639\n",
      "Iteration 70, loss = 0.51716252\n",
      "Iteration 71, loss = 0.49273609\n",
      "Iteration 72, loss = 0.46787301\n",
      "Iteration 73, loss = 0.47349728\n",
      "Iteration 74, loss = 0.45804250\n",
      "Iteration 75, loss = 0.47885318\n",
      "Iteration 76, loss = 0.52984101\n",
      "Iteration 77, loss = 0.51066239\n",
      "Iteration 78, loss = 0.44352131\n",
      "Iteration 79, loss = 0.45709214\n",
      "Iteration 80, loss = 0.43461152\n",
      "Iteration 81, loss = 0.43169642\n",
      "Iteration 82, loss = 0.43332613\n",
      "Iteration 83, loss = 0.42842003\n",
      "Iteration 84, loss = 0.53314383\n",
      "Iteration 85, loss = 0.58213400\n",
      "Iteration 86, loss = 0.42476644\n",
      "Iteration 87, loss = 0.47797392\n",
      "Iteration 88, loss = 0.42057649\n",
      "Iteration 89, loss = 0.48577553\n",
      "Iteration 90, loss = 0.47165550\n",
      "Iteration 91, loss = 0.41611009\n",
      "Iteration 92, loss = 0.42469450\n",
      "Iteration 93, loss = 0.48156424\n",
      "Iteration 94, loss = 0.42144045\n",
      "Iteration 95, loss = 0.44692855\n",
      "Iteration 96, loss = 0.44338728\n",
      "Iteration 97, loss = 0.43073939\n",
      "Iteration 98, loss = 0.49032849\n",
      "Iteration 99, loss = 0.40823228\n",
      "Iteration 100, loss = 0.46598250\n",
      "Iteration 101, loss = 0.47912055\n",
      "Iteration 102, loss = 0.39496146\n",
      "Iteration 103, loss = 0.63829987\n",
      "Iteration 104, loss = 0.57294839\n",
      "Iteration 105, loss = 0.41349450\n",
      "Iteration 106, loss = 0.67203943\n",
      "Iteration 107, loss = 0.61899425\n",
      "Iteration 108, loss = 0.40330814\n",
      "Iteration 109, loss = 0.42527291\n",
      "Iteration 110, loss = 0.40793065\n",
      "Iteration 111, loss = 0.40587421\n",
      "Iteration 112, loss = 0.39890715\n",
      "Iteration 113, loss = 0.41148616\n",
      "Training loss did not improve more than tol=0.000100 for 10 consecutive epochs. Stopping.\n",
      "Cross Validation Max Score:  0.782608695652174\n",
      "Cross Validation Min Score:  0.5217391304347826\n",
      "Cross Validation Mean Score:  0.6936758893280632\n"
     ]
    }
   ],
   "source": [
    "cross_validation_score(nn)"
   ]
  },
  {
   "cell_type": "code",
   "execution_count": null,
   "id": "8c063f98",
   "metadata": {},
   "outputs": [],
   "source": []
  }
 ],
 "metadata": {
  "kernelspec": {
   "display_name": "Python 3",
   "language": "python",
   "name": "python3"
  },
  "language_info": {
   "codemirror_mode": {
    "name": "ipython",
    "version": 3
   },
   "file_extension": ".py",
   "mimetype": "text/x-python",
   "name": "python",
   "nbconvert_exporter": "python",
   "pygments_lexer": "ipython3",
   "version": "3.8.8"
  }
 },
 "nbformat": 4,
 "nbformat_minor": 5
}
